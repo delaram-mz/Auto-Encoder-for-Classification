{
  "cells": [
    {
      "attachments": {},
      "cell_type": "markdown",
      "metadata": {
        "id": "0Io3BWo5VyPF"
      },
      "source": [
        "<font color=\"#e32b3d\"><h1>HW1 : Question 3: Auto-Encoders for Classification</h2></font>"
      ]
    },
    {
      "attachments": {},
      "cell_type": "markdown",
      "metadata": {
        "id": "c3BDQvldVyPH"
      },
      "source": [
        "<font color=\"#2ff9b3d\"><h1>part A: Pre-processing </h1></font>\n",
        "\n",
        "required library and packages are imported."
      ]
    },
    {
      "cell_type": "code",
      "execution_count": 2221,
      "metadata": {
        "id": "-2FMOPeHVyPI"
      },
      "outputs": [],
      "source": [
        "# Import library\n",
        "import pandas  as pd \n",
        "import numpy as np \n",
        "import matplotlib.pyplot as plt \n",
        "import seaborn as sns \n"
      ]
    },
    {
      "attachments": {},
      "cell_type": "markdown",
      "metadata": {},
      "source": [
        "Importing the MNIST dataset into train and test sets.\n",
        "\n",
        "    *note that using torch.vision requiers to transform dataset into tensors using *ToTensor()*, this function normalizes all the features in dataset and no further normalization is needed."
      ]
    },
    {
      "cell_type": "code",
      "execution_count": 2222,
      "metadata": {
        "colab": {
          "base_uri": "https://localhost:8080/",
          "height": 408,
          "referenced_widgets": [
            "36ce6d1a37394229bb3469717816998f",
            "de47adcf259d4b8cb1d3798160e1cc48",
            "2c611b2dd80a4d9da26229c2491e99a0",
            "96c93b2c10da4970a0b22d524fcc6e65",
            "41301c5df0794643a91e938f23c8984a",
            "7a36922615a8413ab8b41d7853e5b3af",
            "6d88cdd31fbc43f4b066a88d1114b473",
            "c7b5f784ba5c4e94abd9230d3833a97e",
            "f64410fd31234ba397d8fbf257e977e8",
            "125ed341b4694bd2b6b4b020ff1376ab",
            "a321360257ae4d138cf36024579bf660",
            "f238dcfeb2fb44dc9a37c289ba1055d5",
            "d1576ddf26374e9faf3e88d16c09c1da",
            "5e58eaf79413493db46ce9f392622f40",
            "96373abb1c6f4d378f5982e0fde0689f",
            "922ac2e08a974f08879394f04d280e75",
            "5b4c104d9d9f4200aec0e1c30248b5e1",
            "e7aef31ccc5c4c1a91d1b7865b1b321f",
            "8e45ab448b764345a07740ed8b1a9509",
            "cfdc0bbeaea749b0b51c21da96f9720f",
            "5b673d55a21342ac9d175762f2dcc1ae",
            "e634a05c5ade4fe4807614d15c481efb",
            "302170dc5e4942979e11d02fa6aa3286",
            "b1a608b1c80b4dd399194537f0f1ed93",
            "4307cb2eef2247fd9c256e549e304744",
            "dc3e8217104943b4b0efb9b668ad70e2",
            "008300b9f5fb440b8efe595cb9aa33da",
            "2694459cc8da4bf88ada9a74d7bb7b94",
            "f58ccf327dbf43eb99310c9a131b7e46",
            "63faa330f6a44f71af7f1f2bf4bb55c3",
            "4587fb67a8ff4da5840b4fc2e9495d86",
            "3dd58e9bc65249cb84ff18accdc7438e",
            "860489ca63b04b2f958669c9319502c7",
            "55d174d82c4a4828af2716bbb7ce305c",
            "302e873aaf004e90909b76a0e93421b7",
            "96f45c86023244e3b8d74b9c61c929e0",
            "a98a18cf6da44d7c9ec97839dfb90db7",
            "ffc1a26fe17a411283cc1968b7748dd7",
            "8657b61d35ca429c8b26a4c419f31d5f",
            "a809113135024f40a9050edbc862ea4e",
            "23d6f3a4bdbf4b01bd64d2eb5e495a1e",
            "5c9ed233fcee45088f86788627871d9a",
            "9a2e20529ca14ecb82a229c7569fad07",
            "01069a4d81bb4db4ac599993c4c11bd2"
          ]
        },
        "id": "uoSSTRdWVyPK",
        "outputId": "2dfa6dbb-fb4e-4c01-bf8c-a64732363886"
      },
      "outputs": [],
      "source": [
        "import torch\n",
        "import torchvision\n",
        "import torchvision.transforms as transforms\n",
        "Train_set = torchvision.datasets.MNIST(root=\"./\", download=True,train=True, transform=transforms.Compose([transforms.ToTensor()]))\n",
        "test_set = torchvision.datasets.MNIST(root=\"./\", download=True,train=False, transform=transforms.Compose([transforms.ToTensor()]))"
      ]
    },
    {
      "attachments": {},
      "cell_type": "markdown",
      "metadata": {},
      "source": [
        "checking if the data is normalized."
      ]
    },
    {
      "cell_type": "code",
      "execution_count": 2223,
      "metadata": {},
      "outputs": [
        {
          "name": "stdout",
          "output_type": "stream",
          "text": [
            "Dataset is normalized with maximum value of tensor(1.) and minimum value of tensor(0.)\n"
          ]
        }
      ],
      "source": [
        "max = Train_set[0][0].max()\n",
        "min = Train_set[0][0].min()\n",
        "print(\"Dataset is normalized with maximum value of \"+ str(max)+\" and minimum value of \"+str(min))"
      ]
    },
    {
      "cell_type": "code",
      "execution_count": 2224,
      "metadata": {
        "colab": {
          "base_uri": "https://localhost:8080/"
        },
        "id": "3DJVwaToXIu_",
        "outputId": "23065482-03e9-41c6-cde7-069a4be4542b"
      },
      "outputs": [
        {
          "name": "stdout",
          "output_type": "stream",
          "text": [
            "cpu\n"
          ]
        }
      ],
      "source": [
        "# We move our tensor to the GPU if available\n",
        "if (torch.cuda.is_available()):\n",
        "    DEVICE = 'cuda'\n",
        "else:\n",
        "    DEVICE = 'cpu'\n",
        "print(DEVICE)"
      ]
    },
    {
      "cell_type": "code",
      "execution_count": 2225,
      "metadata": {
        "colab": {
          "base_uri": "https://localhost:8080/"
        },
        "id": "uVH0q898VyPL",
        "outputId": "3a31c5f5-0f42-4eaa-b494-8eada5d96fad"
      },
      "outputs": [],
      "source": [
        "train_images = Train_set.data\n",
        "train_lables = Train_set.targets\n",
        "\n",
        "test_images = test_set.data\n",
        "test_lables = test_set.targets"
      ]
    },
    {
      "attachments": {},
      "cell_type": "markdown",
      "metadata": {},
      "source": [
        "making a list out of train labels:"
      ]
    },
    {
      "cell_type": "code",
      "execution_count": 2226,
      "metadata": {
        "id": "RmufENO2VyPM"
      },
      "outputs": [],
      "source": [
        "dff = pd.DataFrame(train_lables.numpy(), columns=[\"labels\"])\n",
        "classes = list(set(dff['labels'].values))\n",
        "dist = []\n",
        "#creating a list out of number of times each label is repeated.\n",
        "for i in classes:\n",
        "    dist.append((dff.labels == i).sum())    "
      ]
    },
    {
      "attachments": {},
      "cell_type": "markdown",
      "metadata": {},
      "source": [
        "Displaying the label of train data vs. classes:"
      ]
    },
    {
      "cell_type": "code",
      "execution_count": 2227,
      "metadata": {
        "colab": {
          "base_uri": "https://localhost:8080/",
          "height": 365
        },
        "id": "9JZgdzJZVyPN",
        "outputId": "d9eeca98-5151-49e0-82d8-af598de0f254"
      },
      "outputs": [
        {
          "data": {
            "image/png": "[encoded data removed]",
            "text/plain": [
              "<Figure size 640x480 with 1 Axes>"
            ]
          },
          "metadata": {},
          "output_type": "display_data"
        },
        {
          "data": {
            "text/plain": [
              "<Figure size 640x480 with 0 Axes>"
            ]
          },
          "metadata": {},
          "output_type": "display_data"
        }
      ],
      "source": [
        "X = classes\n",
        "Y = dist\n",
        "plt.bar(X, Y, color=['olive', 'teal', 'crimson', 'slateblue', 'darksalmon', 'royalblue', 'darkmagenta', 'maroon', 'goldenrod','seagreen'],\n",
        "        width = 0.6)\n",
        "\n",
        "plt.xticks(X)\n",
        "plt.xlabel(\"Classes\")\n",
        "plt.ylabel(\"Count\")\n",
        "plt.title(\"Count vs. Classes in Train Set\")\n",
        "plt.show()\n",
        "plt.tight_layout()"
      ]
    },
    {
      "attachments": {},
      "cell_type": "markdown",
      "metadata": {},
      "source": [
        "Visualising 5 random images from train set:"
      ]
    },
    {
      "cell_type": "code",
      "execution_count": 2228,
      "metadata": {},
      "outputs": [
        {
          "data": {
            "image/png": "[encoded data removed]",
            "text/plain": [
              "<Figure size 640x480 with 5 Axes>"
            ]
          },
          "metadata": {},
          "output_type": "display_data"
        }
      ],
      "source": [
        "from numpy.random import randint\n",
        "import matplotlib.pyplot as plt\n",
        "\n",
        "rand_ix = randint(0, len(Train_set), 5)\n",
        "figure, axs = plt.subplots(1, 5) \n",
        "counter = 0\n",
        "for j in range(5):\n",
        "    im = Train_set[rand_ix[j]][0]\n",
        "    label = Train_set[rand_ix[j]][1]\n",
        "    imgTmp = torch.transpose(im,0,2)\n",
        "    axs[j].set_title(str(label))\n",
        "    axs[j].axis('off')\n",
        "    axs[j].imshow(torch.transpose(imgTmp, 0, 1).reshape((28,28)), cmap=\"viridis\")\n",
        "    plt.tight_layout()\n"
      ]
    },
    {
      "attachments": {},
      "cell_type": "markdown",
      "metadata": {},
      "source": [
        "a simple class to convert dataframes into corresponding tensors:"
      ]
    },
    {
      "cell_type": "code",
      "execution_count": 2229,
      "metadata": {
        "id": "dkMHyb-TVyPS"
      },
      "outputs": [],
      "source": [
        "import torch\n",
        "class MyDataset():\n",
        "  def __init__(self, dataset):\n",
        "\n",
        "    x = dataset.drop((dataset.shape[1]-1), axis = 1).values\n",
        "    y = dataset[(dataset.shape[1]-1)].values\n",
        "    # Change into tensors:\n",
        "    self.x_train=torch.tensor(x,dtype=torch.float32)\n",
        "    self.y_train=torch.tensor(y,dtype=torch.int64)\n",
        "\n",
        "  def __len__(self):\n",
        "    return len(self.y_train)\n",
        "  \n",
        "  def __getitem__(self,idx):\n",
        "    return self.x_train[idx],self.y_train[idx]"
      ]
    },
    {
      "attachments": {},
      "cell_type": "markdown",
      "metadata": {},
      "source": [
        "<font color=\"#2ff9b3d\"><h1>part B: Auto-Encoder Network </h1></font>"
      ]
    },
    {
      "attachments": {},
      "cell_type": "markdown",
      "metadata": {},
      "source": [
        "Auto-Encoder class:\n",
        "\n",
        "28 * 28 ==> 500 ==> 300 ==> 100 ==> 30 ==> 100 ==>300 ==> 500 ==> 28 * 28 \n",
        "\n",
        "Returns both *encoded* and *decoded* results."
      ]
    },
    {
      "cell_type": "code",
      "execution_count": 2230,
      "metadata": {
        "id": "6evo0QhzVyPT"
      },
      "outputs": [],
      "source": [
        "# Creating a PyTorch class\n",
        "# 28*28 ==> 30 ==> 28*28\n",
        "class AE(torch.nn.Module):\n",
        "    def __init__(self):\n",
        "        super().__init__()\n",
        "        # Building an linear encoder with Linear\n",
        "        # layer followed by Relu activation function\n",
        "        # 784 ==> 30\n",
        "        self.encoder = torch.nn.Sequential(\n",
        "            torch.nn.Linear(28 * 28, 500),\n",
        "            torch.nn.ReLU(),\n",
        "            torch.nn.Linear(500, 300),\n",
        "            torch.nn.ReLU(),\n",
        "            torch.nn.Linear(300, 100),\n",
        "            torch.nn.ReLU(),\n",
        "            torch.nn.Linear(100, 30)\n",
        "        )\n",
        "        # Building an linear decoder with Linear\n",
        "        # layer followed by Relu activation function\n",
        "        # The Sigmoid activation function\n",
        "        # outputs the value between 0 and 1\n",
        "        # 30 ==> 784\n",
        "        self.decoder = torch.nn.Sequential(\n",
        "            torch.nn.Linear(30, 100),\n",
        "            torch.nn.ReLU(),\n",
        "            torch.nn.Linear(100, 300),\n",
        "            torch.nn.ReLU(),\n",
        "            torch.nn.Linear(300, 500),\n",
        "            torch.nn.ReLU(),\n",
        "            torch.nn.Linear(500, 28*28),\n",
        "            torch.nn.Sigmoid()\n",
        "        )\n",
        "    def forward(self, x):\n",
        "        self.encoded = self.encoder(x)\n",
        "        decoded = self.decoder(self.encoded)\n",
        "        return self.encoded, decoded"
      ]
    },
    {
      "cell_type": "markdown",
      "metadata": {},
      "source": [
        "    *The method for fitting an epoch of data to the model"
      ]
    },
    {
      "cell_type": "code",
      "execution_count": 2231,
      "metadata": {
        "id": "hzHRAdPmVyPU"
      },
      "outputs": [],
      "source": [
        "def AE_fit(model, train_loader, optimizer,  criterion):\n",
        "    train_running_loss = 0.0\n",
        "    counter = 0\n",
        "    model.train()   # Training mode (allow weight updates)\n",
        "    model = model.to(DEVICE)\n",
        "    # Validation using Loss function\n",
        "    loss_function = criterion\n",
        "\n",
        "    for (image, _) in train_loader:\n",
        "      image = image.to(DEVICE)\n",
        "      image = image.reshape(-1, 28*28)\n",
        "      # Output of Autoencoder\n",
        "      encoded, reconstructed = model(image)\n",
        "      # Calculating the loss function\n",
        "      loss = loss_function(reconstructed, image)\n",
        "      train_running_loss += loss.item()\n",
        "      # The gradients are set to zero,\n",
        "      # the gradient is computed and stored.\n",
        "      # .step() performs parameter update\n",
        "      optimizer.zero_grad()\n",
        "      loss.backward()\n",
        "      optimizer.step()\n",
        "      counter += 1 \n",
        "    train_loss = train_running_loss / counter ## Total epoch loss\n",
        "    return model, train_loss, reconstructed, image"
      ]
    },
    {
      "attachments": {},
      "cell_type": "markdown",
      "metadata": {},
      "source": [
        "    *The method for evaluating the validation data\n",
        "\n",
        "in this method the actual and predicted outputs are used for model evaluations."
      ]
    },
    {
      "cell_type": "code",
      "execution_count": 2232,
      "metadata": {
        "id": "8sBPZJFMVyPV"
      },
      "outputs": [],
      "source": [
        "def AE_validation(model, data_loader, criterion):\n",
        "    val_running_loss = 0.0\n",
        "    counter = 0\n",
        "    model.eval()    ## Evaluation mode (do not allow weight updates)\n",
        "    # Validation using Loss function\n",
        "    loss_function = criterion\n",
        "    for (image, _) in data_loader:\n",
        "        counter += 1\n",
        "        # Reshaping the image to (-1, 784)\n",
        "        image = image.to(DEVICE)\n",
        "        image = image.reshape(-1, 28*28)\n",
        "        # Output of Autoencoder\n",
        "        encoded, reconstructed = model(image)\n",
        "        # Calculating the loss function\n",
        "        loss = loss_function(reconstructed, image)\n",
        "        val_running_loss += loss.item()\n",
        "        # ## No backprop here (because we are validating)\n",
        "    val_loss = val_running_loss / counter\n",
        "    return val_loss"
      ]
    },
    {
      "attachments": {},
      "cell_type": "markdown",
      "metadata": {},
      "source": [
        "    *The main method for training the model through epochs\n",
        "\n",
        "in this method, first based on the hparam values the learning rate and number of epochs is set. the optimizer is set to *SGD* and the for loss function the *MSE* is used.\n",
        "\n",
        "then for each epoch, *fit* and *validation* functions are called.\n",
        "\n",
        "at the end of the training the trained model, train.validation losses and the anctual and reconstructed batch of images is returned.\n"
      ]
    },
    {
      "cell_type": "code",
      "execution_count": 2233,
      "metadata": {
        "id": "1Dm6wm5SVyPW"
      },
      "outputs": [],
      "source": [
        "import torch.optim as optim\n",
        "import time\n",
        "\n",
        "def AE_train(hparams, train_loader, val_loader):\n",
        "    train_loss = []\n",
        "    val_loss = []\n",
        "    #model initialization\n",
        "    model = AE()\n",
        "    ## Loss Function\n",
        "    criterion = torch.nn.MSELoss()\n",
        "    ## Optimizer\n",
        "    optimizer = optim.SGD(model.parameters(), lr=hparams[\"lr\"], momentum=0.9)\n",
        "\n",
        "    start = time.time()\n",
        "    ## Loop over epochs\n",
        "    for epoch in range(hparams['epochs']):\n",
        "        print(f\"Epoch {epoch+1} of {hparams['epochs']}\")\n",
        "        ## Fit the model using the training set\n",
        "        model, train_epoch_loss, reconstruct ,actual_image= AE_fit(model, train_loader,optimizer, criterion)\n",
        "        ## Evaluate the model on the val set\n",
        "        val_epoch_loss = AE_validation(model, val_loader, criterion)   \n",
        "\n",
        "        train_loss.append(train_epoch_loss)\n",
        "        val_loss.append(val_epoch_loss)\n",
        "        print(f\"Train Loss: {train_epoch_loss:.4f},\\\n",
        "         Val Loss: {val_epoch_loss:.4f},\")\n",
        "\n",
        "    end = time.time()\n",
        "    print(f\"Training time: {(end-start)/60:.3f} minutes\")\n",
        "    return model, train_loss, val_loss, reconstruct, actual_image"
      ]
    },
    {
      "attachments": {},
      "cell_type": "markdown",
      "metadata": {},
      "source": [
        "Splitting the train set into train and validation and the creating a dataloader to feed them to the network."
      ]
    },
    {
      "cell_type": "code",
      "execution_count": 2234,
      "metadata": {
        "colab": {
          "base_uri": "https://localhost:8080/",
          "height": 597
        },
        "id": "BFo9vo9tfgwj",
        "outputId": "0497202f-929e-42a5-ed6f-e5190e4aeff4"
      },
      "outputs": [
        {
          "name": "stdout",
          "output_type": "stream",
          "text": [
            "Size of the training set: 50000\n",
            "Size of the validation set: 10000\n",
            "Size of the test set: 10000\n"
          ]
        }
      ],
      "source": [
        "from torch.utils.data import random_split, DataLoader\n",
        "\n",
        "AE_batch_size=100\n",
        "## Train-val split\n",
        "train_set, val_set = random_split(Train_set, [50000, 10000])\n",
        "\n",
        "print(f\"Size of the training set: {len(train_set)}\")\n",
        "print(f\"Size of the validation set: {len(val_set)}\")\n",
        "print(f\"Size of the test set: {len(test_set)}\")\n",
        "\n",
        "## Create the data loaders\n",
        "train_loader = DataLoader(train_set, batch_size=AE_batch_size, shuffle=True)\n",
        "val_loader = DataLoader(val_set, batch_size=AE_batch_size, shuffle=True)\n",
        "test_loader = DataLoader(test_set, batch_size=AE_batch_size, shuffle=True)"
      ]
    },
    {
      "cell_type": "code",
      "execution_count": 2235,
      "metadata": {
        "colab": {
          "base_uri": "https://localhost:8080/"
        },
        "id": "b2X_XGWdfXbk",
        "outputId": "80f917c3-8620-4f3c-a2b0-64ddad212418"
      },
      "outputs": [
        {
          "name": "stdout",
          "output_type": "stream",
          "text": [
            "Epoch 1 of 20\n",
            "Train Loss: 0.0822,         Val Loss: 0.0634,\n",
            "Epoch 2 of 20\n",
            "Train Loss: 0.0618,         Val Loss: 0.0602,\n",
            "Epoch 3 of 20\n",
            "Train Loss: 0.0573,         Val Loss: 0.0542,\n",
            "Epoch 4 of 20\n",
            "Train Loss: 0.0523,         Val Loss: 0.0499,\n",
            "Epoch 5 of 20\n",
            "Train Loss: 0.0472,         Val Loss: 0.0443,\n",
            "Epoch 6 of 20\n",
            "Train Loss: 0.0422,         Val Loss: 0.0390,\n",
            "Epoch 7 of 20\n",
            "Train Loss: 0.0364,         Val Loss: 0.0338,\n",
            "Epoch 8 of 20\n",
            "Train Loss: 0.0324,         Val Loss: 0.0305,\n",
            "Epoch 9 of 20\n",
            "Train Loss: 0.0295,         Val Loss: 0.0282,\n",
            "Epoch 10 of 20\n",
            "Train Loss: 0.0277,         Val Loss: 0.0267,\n",
            "Epoch 11 of 20\n",
            "Train Loss: 0.0265,         Val Loss: 0.0257,\n",
            "Epoch 12 of 20\n",
            "Train Loss: 0.0256,         Val Loss: 0.0250,\n",
            "Epoch 13 of 20\n",
            "Train Loss: 0.0248,         Val Loss: 0.0242,\n",
            "Epoch 14 of 20\n",
            "Train Loss: 0.0241,         Val Loss: 0.0238,\n",
            "Epoch 15 of 20\n",
            "Train Loss: 0.0234,         Val Loss: 0.0230,\n",
            "Epoch 16 of 20\n",
            "Train Loss: 0.0227,         Val Loss: 0.0221,\n",
            "Epoch 17 of 20\n",
            "Train Loss: 0.0219,         Val Loss: 0.0216,\n",
            "Epoch 18 of 20\n",
            "Train Loss: 0.0214,         Val Loss: 0.0211,\n",
            "Epoch 19 of 20\n",
            "Train Loss: 0.0209,         Val Loss: 0.0207,\n",
            "Epoch 20 of 20\n",
            "Train Loss: 0.0204,         Val Loss: 0.0202,\n",
            "Training time: 9.451 minutes\n"
          ]
        }
      ],
      "source": [
        "## Training the Auto-Encoder\n",
        "hparams = {'batch_size': AE_batch_size, 'lr': 0.5, 'epochs': 20}\n",
        "trained_AE, train_loss, val_loss, reconstructed_image, actual= AE_train(hparams, train_loader, val_loader)"
      ]
    },
    {
      "cell_type": "code",
      "execution_count": 2236,
      "metadata": {},
      "outputs": [],
      "source": [
        "#Saving the trained AE\n",
        "torch.save(trained_AE.state_dict(), 'trained_AE')"
      ]
    },
    {
      "attachments": {},
      "cell_type": "markdown",
      "metadata": {},
      "source": [
        "To check the functionality of the autoencoder, the last actual and reconstructed image are visualised."
      ]
    },
    {
      "cell_type": "code",
      "execution_count": 2237,
      "metadata": {},
      "outputs": [
        {
          "data": {
            "image/png": "[encoded data removed]",
            "text/plain": [
              "<Figure size 600x600 with 2 Axes>"
            ]
          },
          "metadata": {},
          "output_type": "display_data"
        }
      ],
      "source": [
        "## Visualising a sample of actual and reconstructed images\n",
        "plt.figure(figsize=(6,6))\n",
        "plt.subplot(2, 2, 1)\n",
        "item = (actual[AE_batch_size-2].reshape(-1, 28*28))\n",
        "item = item.reshape(-1, 28, 28)\n",
        "plt.imshow(item[0].cpu().detach().numpy())\n",
        "plt.title(\"Actual Image\")\n",
        "plt.autoscale()\n",
        "\n",
        "plt.subplot(2, 2, 2)\n",
        "item = reconstructed_image[AE_batch_size-2].reshape(-1, 28*28)\n",
        "item = item.reshape(-1, 28, 28)\n",
        "plt.imshow(item[0].cpu().detach().numpy())\n",
        "plt.title(\"Reconstructed Image\")\n",
        "plt.autoscale()\n",
        "\n",
        "plt.tight_layout()\n"
      ]
    },
    {
      "attachments": {},
      "cell_type": "markdown",
      "metadata": {},
      "source": [
        "    *training and validation loss vs. epoch for auto-encoder."
      ]
    },
    {
      "cell_type": "code",
      "execution_count": 2238,
      "metadata": {
        "colab": {
          "base_uri": "https://localhost:8080/",
          "height": 341
        },
        "id": "AoKiEkr4fJ68",
        "outputId": "acec50a9-06e7-401a-b12d-82ae060ca287"
      },
      "outputs": [
        {
          "data": {
            "text/plain": [
              "<matplotlib.legend.Legend at 0x7fdea2863640>"
            ]
          },
          "execution_count": 2238,
          "metadata": {},
          "output_type": "execute_result"
        },
        {
          "data": {
            "image/png": "[encoded data removed]",
            "text/plain": [
              "<Figure size 800x500 with 1 Axes>"
            ]
          },
          "metadata": {},
          "output_type": "display_data"
        }
      ],
      "source": [
        "## Plotting the training loss and validation loss vs epochs\n",
        "plt.figure(figsize=(8, 5))\n",
        "plt.plot(list(range(1,len(train_loss)+1)), train_loss, label='Train Loss')\n",
        "plt.plot(list(range(1,len(val_loss)+1)), val_loss, label='Val Loss')\n",
        "plt.title('Loss per Epoch for Auto-Encoder')\n",
        "tick_marks = np.arange(len(range(hparams['epochs'])))\n",
        "plt.xticks(tick_marks, range(hparams['epochs']))\n",
        "plt.xlabel('Epoch')\n",
        "plt.ylabel('Loss')\n",
        "plt.autoscale()\n",
        "plt.legend()"
      ]
    },
    {
      "attachments": {},
      "cell_type": "markdown",
      "metadata": {},
      "source": [
        "<font color=\"#2ff9b3d\"><h1>part C: Classification  </h1></font>"
      ]
    },
    {
      "attachments": {},
      "cell_type": "markdown",
      "metadata": {},
      "source": [
        "the *preprocessing* function uses the encoded part of the trained auto-encoder and reshapes all the MNIST dataset into having 30 features. this function returns a dataframe."
      ]
    },
    {
      "cell_type": "code",
      "execution_count": 2239,
      "metadata": {},
      "outputs": [],
      "source": [
        "def Preprocessing(model, data_loader):\n",
        "    counter = 0\n",
        "    columns = [i for i in range(31)]\n",
        "    batch_size = train_loader.batch_size\n",
        "    label_column = []\n",
        "  \n",
        "    df = pd.DataFrame(columns=columns)\n",
        "    model.eval()    ## Evaluation mode (do not allow weight updates)\n",
        "    model.load_state_dict(torch.load('trained_AE'))\n",
        "    for (image, labels) in data_loader:\n",
        "        image = image.to(DEVICE)\n",
        "        image = image.reshape(-1, 28*28)\n",
        "        # Output of Autoencoder\n",
        "        encoded, reconstructed = model(image)\n",
        "        temp_df = pd.DataFrame(data=np.concatenate((encoded.detach().numpy(), (labels.detach().numpy().reshape(batch_size, 1))), axis = 1), columns=columns)\n",
        "        df = pd.concat([df, temp_df])\n",
        "        counter += 1\n",
        "    return df"
      ]
    },
    {
      "attachments": {},
      "cell_type": "markdown",
      "metadata": {},
      "source": [
        "Dimension Reduction for train, validation and test sets."
      ]
    },
    {
      "cell_type": "code",
      "execution_count": 2240,
      "metadata": {},
      "outputs": [],
      "source": [
        "DR_train_df = Preprocessing(trained_AE, train_loader)\n",
        "DR_val_df = Preprocessing(trained_AE, val_loader)\n",
        "DR_test_df = Preprocessing(trained_AE, test_loader)"
      ]
    },
    {
      "cell_type": "code",
      "execution_count": 2256,
      "metadata": {},
      "outputs": [
        {
          "data": {
            "text/html": [
              "<div>\n",
              "<style scoped>\n",
              "    .dataframe tbody tr th:only-of-type {\n",
              "        vertical-align: middle;\n",
              "    }\n",
              "\n",
              "    .dataframe tbody tr th {\n",
              "        vertical-align: top;\n",
              "    }\n",
              "\n",
              "    .dataframe thead th {\n",
              "        text-align: right;\n",
              "    }\n",
              "</style>\n",
              "<table border=\"1\" class=\"dataframe\">\n",
              "  <thead>\n",
              "    <tr style=\"text-align: right;\">\n",
              "      <th></th>\n",
              "      <th>0</th>\n",
              "      <th>1</th>\n",
              "      <th>2</th>\n",
              "      <th>3</th>\n",
              "      <th>4</th>\n",
              "      <th>5</th>\n",
              "      <th>6</th>\n",
              "      <th>7</th>\n",
              "      <th>8</th>\n",
              "      <th>9</th>\n",
              "      <th>...</th>\n",
              "      <th>21</th>\n",
              "      <th>22</th>\n",
              "      <th>23</th>\n",
              "      <th>24</th>\n",
              "      <th>25</th>\n",
              "      <th>26</th>\n",
              "      <th>27</th>\n",
              "      <th>28</th>\n",
              "      <th>29</th>\n",
              "      <th>30</th>\n",
              "    </tr>\n",
              "  </thead>\n",
              "  <tbody>\n",
              "    <tr>\n",
              "      <th>0</th>\n",
              "      <td>3.959987</td>\n",
              "      <td>-7.541953</td>\n",
              "      <td>1.127539</td>\n",
              "      <td>3.050413</td>\n",
              "      <td>-6.889112</td>\n",
              "      <td>-1.059252</td>\n",
              "      <td>-3.567142</td>\n",
              "      <td>0.858062</td>\n",
              "      <td>-10.036297</td>\n",
              "      <td>-4.179616</td>\n",
              "      <td>...</td>\n",
              "      <td>6.531278</td>\n",
              "      <td>9.058754</td>\n",
              "      <td>6.344368</td>\n",
              "      <td>3.185543</td>\n",
              "      <td>-1.825446</td>\n",
              "      <td>-1.318675</td>\n",
              "      <td>-0.622472</td>\n",
              "      <td>6.570090</td>\n",
              "      <td>3.479529</td>\n",
              "      <td>9.0</td>\n",
              "    </tr>\n",
              "    <tr>\n",
              "      <th>1</th>\n",
              "      <td>1.324899</td>\n",
              "      <td>-5.651095</td>\n",
              "      <td>-0.834956</td>\n",
              "      <td>2.536562</td>\n",
              "      <td>-9.906751</td>\n",
              "      <td>0.129007</td>\n",
              "      <td>-1.921279</td>\n",
              "      <td>2.321182</td>\n",
              "      <td>-7.443639</td>\n",
              "      <td>-2.965323</td>\n",
              "      <td>...</td>\n",
              "      <td>8.171686</td>\n",
              "      <td>12.344302</td>\n",
              "      <td>6.016605</td>\n",
              "      <td>4.625306</td>\n",
              "      <td>-6.735673</td>\n",
              "      <td>-0.127585</td>\n",
              "      <td>4.298642</td>\n",
              "      <td>7.078179</td>\n",
              "      <td>-0.285485</td>\n",
              "      <td>7.0</td>\n",
              "    </tr>\n",
              "    <tr>\n",
              "      <th>2</th>\n",
              "      <td>-3.661413</td>\n",
              "      <td>-5.726863</td>\n",
              "      <td>-13.168493</td>\n",
              "      <td>-3.224572</td>\n",
              "      <td>-9.241544</td>\n",
              "      <td>0.872386</td>\n",
              "      <td>-4.435365</td>\n",
              "      <td>1.192447</td>\n",
              "      <td>-5.083215</td>\n",
              "      <td>-2.852368</td>\n",
              "      <td>...</td>\n",
              "      <td>3.743181</td>\n",
              "      <td>13.395475</td>\n",
              "      <td>7.409472</td>\n",
              "      <td>9.349843</td>\n",
              "      <td>-2.923809</td>\n",
              "      <td>2.860958</td>\n",
              "      <td>1.252937</td>\n",
              "      <td>1.148046</td>\n",
              "      <td>-0.929400</td>\n",
              "      <td>0.0</td>\n",
              "    </tr>\n",
              "    <tr>\n",
              "      <th>3</th>\n",
              "      <td>7.805335</td>\n",
              "      <td>-6.452654</td>\n",
              "      <td>3.689734</td>\n",
              "      <td>3.539483</td>\n",
              "      <td>-3.313233</td>\n",
              "      <td>3.408487</td>\n",
              "      <td>-5.182032</td>\n",
              "      <td>1.848785</td>\n",
              "      <td>-10.299103</td>\n",
              "      <td>0.427547</td>\n",
              "      <td>...</td>\n",
              "      <td>0.298267</td>\n",
              "      <td>-0.011019</td>\n",
              "      <td>3.246523</td>\n",
              "      <td>6.904319</td>\n",
              "      <td>-4.219474</td>\n",
              "      <td>0.268438</td>\n",
              "      <td>2.424850</td>\n",
              "      <td>10.880562</td>\n",
              "      <td>1.564363</td>\n",
              "      <td>1.0</td>\n",
              "    </tr>\n",
              "    <tr>\n",
              "      <th>4</th>\n",
              "      <td>0.567145</td>\n",
              "      <td>-4.068595</td>\n",
              "      <td>-5.288756</td>\n",
              "      <td>0.278229</td>\n",
              "      <td>-6.408182</td>\n",
              "      <td>-1.473763</td>\n",
              "      <td>-7.566933</td>\n",
              "      <td>2.716445</td>\n",
              "      <td>-5.307080</td>\n",
              "      <td>-1.510949</td>\n",
              "      <td>...</td>\n",
              "      <td>2.762788</td>\n",
              "      <td>6.249556</td>\n",
              "      <td>1.974507</td>\n",
              "      <td>5.629575</td>\n",
              "      <td>-0.807243</td>\n",
              "      <td>1.190946</td>\n",
              "      <td>3.200981</td>\n",
              "      <td>5.331183</td>\n",
              "      <td>2.270095</td>\n",
              "      <td>4.0</td>\n",
              "    </tr>\n",
              "  </tbody>\n",
              "</table>\n",
              "<p>5 rows × 31 columns</p>\n",
              "</div>"
            ],
            "text/plain": [
              "         0         1          2         3         4         5         6   \\\n",
              "0  3.959987 -7.541953   1.127539  3.050413 -6.889112 -1.059252 -3.567142   \n",
              "1  1.324899 -5.651095  -0.834956  2.536562 -9.906751  0.129007 -1.921279   \n",
              "2 -3.661413 -5.726863 -13.168493 -3.224572 -9.241544  0.872386 -4.435365   \n",
              "3  7.805335 -6.452654   3.689734  3.539483 -3.313233  3.408487 -5.182032   \n",
              "4  0.567145 -4.068595  -5.288756  0.278229 -6.408182 -1.473763 -7.566933   \n",
              "\n",
              "         7          8         9   ...        21         22        23  \\\n",
              "0  0.858062 -10.036297 -4.179616  ...  6.531278   9.058754  6.344368   \n",
              "1  2.321182  -7.443639 -2.965323  ...  8.171686  12.344302  6.016605   \n",
              "2  1.192447  -5.083215 -2.852368  ...  3.743181  13.395475  7.409472   \n",
              "3  1.848785 -10.299103  0.427547  ...  0.298267  -0.011019  3.246523   \n",
              "4  2.716445  -5.307080 -1.510949  ...  2.762788   6.249556  1.974507   \n",
              "\n",
              "         24        25        26        27         28        29   30  \n",
              "0  3.185543 -1.825446 -1.318675 -0.622472   6.570090  3.479529  9.0  \n",
              "1  4.625306 -6.735673 -0.127585  4.298642   7.078179 -0.285485  7.0  \n",
              "2  9.349843 -2.923809  2.860958  1.252937   1.148046 -0.929400  0.0  \n",
              "3  6.904319 -4.219474  0.268438  2.424850  10.880562  1.564363  1.0  \n",
              "4  5.629575 -0.807243  1.190946  3.200981   5.331183  2.270095  4.0  \n",
              "\n",
              "[5 rows x 31 columns]"
            ]
          },
          "execution_count": 2256,
          "metadata": {},
          "output_type": "execute_result"
        }
      ],
      "source": [
        "DR_train_df.head()"
      ]
    },
    {
      "attachments": {},
      "cell_type": "markdown",
      "metadata": {},
      "source": [
        "A simple fully connected network with 2 hidden layers for multi class classification."
      ]
    },
    {
      "cell_type": "code",
      "execution_count": 2242,
      "metadata": {},
      "outputs": [],
      "source": [
        "import torch.nn as nn\n",
        "import torch.nn.functional as F\n",
        "\n",
        "# Fully-connected neural network\n",
        "class FC(nn.Module):\n",
        "    def __init__(self, input_size, hidden_size, num_classes):\n",
        "        super(FC, self).__init__()\n",
        "        \n",
        "        ## Input layer, 2 hidden layers and softmax layer\n",
        "        self.fc1 = nn.Linear(input_size, hidden_size) \n",
        "        self.fc2 = nn.Linear(hidden_size, hidden_size)  \n",
        "        self.fc3 = nn.Linear(hidden_size, num_classes)  \n",
        "        self.softm = nn.Softmax(dim=1)\n",
        "\n",
        "    def forward(self, x):\n",
        "        # The forward pass\n",
        "        out = self.fc1(x)\n",
        "        out = F.relu(out)\n",
        "        out = self.fc2(out)\n",
        "        out = F.relu(out)\n",
        "        out = self.fc3(out)\n",
        "        out = self.softm(out)\n",
        "        return out\n"
      ]
    },
    {
      "cell_type": "markdown",
      "metadata": {},
      "source": [
        "    *The method for fitting an epoch of data to the model"
      ]
    },
    {
      "cell_type": "code",
      "execution_count": 2243,
      "metadata": {},
      "outputs": [],
      "source": [
        "def FC_fit(model, train_loader, optimizer, criterion):\n",
        "    model.train()   # Training mode (allow weight updates)\n",
        "    train_running_loss = 0.0\n",
        "    train_running_correct = 0\n",
        "    counter = 0\n",
        "    total = 0\n",
        "    for i, data in enumerate(train_loader):\n",
        "        counter += 1\n",
        "        data, target = data[0].to(DEVICE), data[1].to(DEVICE)\n",
        "        data = data.reshape(-1, 30)    ## Reshape the image data for the fully-connected NN\n",
        "        total += target.size(0)\n",
        "        optimizer.zero_grad()   # Reset gradients\n",
        "        outputs = model(data)   # Calculate outputs\n",
        "        loss = criterion(outputs, target)     ## Calculate Loss\n",
        "        train_running_loss += loss.item()\n",
        "        _, preds = torch.max(outputs.data, 1)\n",
        "        train_running_correct += (preds == target).sum().item() ## Number of correct preds\n",
        "        loss.backward()   ## Backpropage the loss and calculate the gradients\n",
        "        optimizer.step()   ## Update the weights using backpropagation\n",
        "        \n",
        "    train_loss = train_running_loss / counter ## Total epoch loss\n",
        "    train_accuracy = 100. * train_running_correct / total ## Mean epoch accuracy\n",
        "    return train_loss, train_accuracy"
      ]
    },
    {
      "attachments": {},
      "cell_type": "markdown",
      "metadata": {},
      "source": [
        "    *The method for evaluating the validation data"
      ]
    },
    {
      "cell_type": "code",
      "execution_count": 2244,
      "metadata": {},
      "outputs": [],
      "source": [
        "## The method for evaluating the validation data\n",
        "\n",
        "def FC_validation(model, data_loader, criterion):\n",
        "    model.eval()    ## Evaluation mode (do not allow weight updates)\n",
        "    val_running_loss = 0.0\n",
        "    val_running_correct = 0\n",
        "    counter = 0\n",
        "    total = 0\n",
        "    for i, data in enumerate(data_loader):\n",
        "        counter += 1\n",
        "        data, target = data[0].to(DEVICE), data[1].to(DEVICE)\n",
        "        data = data.reshape(-1, 30)\n",
        "        total += target.size(0)\n",
        "        outputs = model(data)\n",
        "        loss = criterion(outputs, target)\n",
        "        val_running_loss += loss.item()\n",
        "        _, preds = torch.max(outputs.data, 1)\n",
        "        val_running_correct += (preds == target).sum().item()\n",
        "        ## No backprop here (because we are validating)\n",
        "        \n",
        "    val_loss = val_running_loss / counter\n",
        "    val_accuracy = 100. * val_running_correct / total\n",
        "    return val_loss, val_accuracy"
      ]
    },
    {
      "attachments": {},
      "cell_type": "markdown",
      "metadata": {},
      "source": [
        "    *The main method for training the model through epochs\n",
        "\n",
        "in this method, first based on the hparam values the learning rate, number of hidden layer neurons and number of epochs are decided. then for each epoch, *fit* and *validation* functions are called."
      ]
    },
    {
      "cell_type": "code",
      "execution_count": 2245,
      "metadata": {},
      "outputs": [],
      "source": [
        "import torch.optim as optim\n",
        "import time\n",
        "\n",
        "## The main method for training the model through epochs\n",
        "def FC_train(hparams, train_loader, val_loader):\n",
        "\n",
        "    model = FC(30, hparams[\"hidden_layer_neurons\"], 10)\n",
        "    model.to(DEVICE) ## Model from CPU to GPU\n",
        "    ## Optimizer: Adadelta\n",
        "    optimizer = optim.Adadelta(model.parameters(), lr=hparams[\"lr\"])\n",
        "    ## Loss function: Cross Entropy\n",
        "    criterion = nn.CrossEntropyLoss()\n",
        "    train_loss = []\n",
        "    train_accuracy = []\n",
        "    val_loss = []\n",
        "    val_accuracy = []\n",
        "\n",
        "    start = time.time()\n",
        "    ## Loop over epochs\n",
        "    for epoch in range(hparams['epochs']):\n",
        "        print(f\"Epoch {epoch+1} of {hparams['epochs']}\")\n",
        "        ## Fit the model using the training set\n",
        "        train_epoch_loss, train_epoch_accuracy = FC_fit(model, train_loader, optimizer, criterion)\n",
        "        ## Evaluate the model on the val set\n",
        "        val_epoch_loss, val_epoch_accuracy = FC_validation(model, val_loader, criterion)  \n",
        "        # Storing the losses\n",
        "        train_loss.append(train_epoch_loss)\n",
        "        train_accuracy.append(train_epoch_accuracy)\n",
        "\n",
        "        val_loss.append(val_epoch_loss)\n",
        "        val_accuracy.append(val_epoch_accuracy)\n",
        "        \n",
        "        print(f\"Train Loss: {train_epoch_loss:.4f}, Train Acc: {train_epoch_accuracy:.2f},\\\n",
        "         Val Loss: {val_epoch_loss:.4f}, Val Acc: {val_epoch_accuracy:.2f}\")\n",
        "\n",
        "    end = time.time()\n",
        "\n",
        "    print(f\"Training time: {(end-start)/60:.3f} minutes\")\n",
        "    return model, train_loss, train_accuracy, val_loss, val_accuracy"
      ]
    },
    {
      "cell_type": "code",
      "execution_count": 2246,
      "metadata": {},
      "outputs": [],
      "source": [
        "# Hyperparameters dict\n",
        "FC_batch_size = 50\n",
        "hparams = {'batch_size': FC_batch_size, 'lr': 0.09, 'epochs': 50, 'hidden_layer_neurons':50}"
      ]
    },
    {
      "attachments": {},
      "cell_type": "markdown",
      "metadata": {},
      "source": [
        "changing dataframes into tensors and then creating dataloaders."
      ]
    },
    {
      "cell_type": "code",
      "execution_count": 2247,
      "metadata": {},
      "outputs": [],
      "source": [
        "train_dataset = MyDataset(DR_train_df)\n",
        "val_dataset = MyDataset(DR_val_df)\n",
        "test_dataset = MyDataset(DR_test_df)\n",
        "\n",
        "# ## Create the data loaders\n",
        "DR_train_loader = torch.utils.data.DataLoader(train_dataset, batch_size=FC_batch_size, shuffle=True)\n",
        "DR_val_loader = torch.utils.data.DataLoader(val_dataset, batch_size=FC_batch_size, shuffle=True)\n",
        "DR_test_loader = torch.utils.data.DataLoader(test_dataset, batch_size=FC_batch_size, shuffle=True)"
      ]
    },
    {
      "attachments": {},
      "cell_type": "markdown",
      "metadata": {},
      "source": [
        "Training the Fully Connected model."
      ]
    },
    {
      "cell_type": "code",
      "execution_count": 2248,
      "metadata": {},
      "outputs": [
        {
          "name": "stdout",
          "output_type": "stream",
          "text": [
            "Epoch 1 of 50\n",
            "Train Loss: 1.7996, Train Acc: 73.37,         Val Loss: 1.6268, Val Acc: 87.53\n",
            "Epoch 2 of 50\n",
            "Train Loss: 1.5998, Train Acc: 88.99,         Val Loss: 1.5884, Val Acc: 89.29\n",
            "Epoch 3 of 50\n",
            "Train Loss: 1.5778, Train Acc: 89.99,         Val Loss: 1.5758, Val Acc: 90.05\n",
            "Epoch 4 of 50\n",
            "Train Loss: 1.5675, Train Acc: 90.53,         Val Loss: 1.5676, Val Acc: 90.38\n",
            "Epoch 5 of 50\n",
            "Train Loss: 1.5610, Train Acc: 91.02,         Val Loss: 1.5627, Val Acc: 90.64\n",
            "Epoch 6 of 50\n",
            "Train Loss: 1.5565, Train Acc: 91.34,         Val Loss: 1.5590, Val Acc: 91.11\n",
            "Epoch 7 of 50\n",
            "Train Loss: 1.5535, Train Acc: 91.50,         Val Loss: 1.5564, Val Acc: 91.14\n",
            "Epoch 8 of 50\n",
            "Train Loss: 1.5508, Train Acc: 91.71,         Val Loss: 1.5548, Val Acc: 91.12\n",
            "Epoch 9 of 50\n",
            "Train Loss: 1.5489, Train Acc: 91.81,         Val Loss: 1.5526, Val Acc: 91.28\n",
            "Epoch 10 of 50\n",
            "Train Loss: 1.5472, Train Acc: 91.98,         Val Loss: 1.5520, Val Acc: 91.39\n",
            "Epoch 11 of 50\n",
            "Train Loss: 1.5455, Train Acc: 92.04,         Val Loss: 1.5501, Val Acc: 91.44\n",
            "Epoch 12 of 50\n",
            "Train Loss: 1.5444, Train Acc: 92.17,         Val Loss: 1.5490, Val Acc: 91.64\n",
            "Epoch 13 of 50\n",
            "Train Loss: 1.5432, Train Acc: 92.26,         Val Loss: 1.5475, Val Acc: 91.67\n",
            "Epoch 14 of 50\n",
            "Train Loss: 1.5418, Train Acc: 92.46,         Val Loss: 1.5469, Val Acc: 91.70\n",
            "Epoch 15 of 50\n",
            "Train Loss: 1.5411, Train Acc: 92.40,         Val Loss: 1.5456, Val Acc: 91.78\n",
            "Epoch 16 of 50\n",
            "Train Loss: 1.5403, Train Acc: 92.48,         Val Loss: 1.5455, Val Acc: 91.92\n",
            "Epoch 17 of 50\n",
            "Train Loss: 1.5394, Train Acc: 92.59,         Val Loss: 1.5455, Val Acc: 91.88\n",
            "Epoch 18 of 50\n",
            "Train Loss: 1.5385, Train Acc: 92.64,         Val Loss: 1.5445, Val Acc: 91.98\n",
            "Epoch 19 of 50\n",
            "Train Loss: 1.5377, Train Acc: 92.68,         Val Loss: 1.5428, Val Acc: 92.08\n",
            "Epoch 20 of 50\n",
            "Train Loss: 1.5373, Train Acc: 92.73,         Val Loss: 1.5421, Val Acc: 92.18\n",
            "Epoch 21 of 50\n",
            "Train Loss: 1.5366, Train Acc: 92.82,         Val Loss: 1.5425, Val Acc: 92.05\n",
            "Epoch 22 of 50\n",
            "Train Loss: 1.5360, Train Acc: 92.85,         Val Loss: 1.5424, Val Acc: 92.07\n",
            "Epoch 23 of 50\n",
            "Train Loss: 1.5355, Train Acc: 92.84,         Val Loss: 1.5416, Val Acc: 92.24\n",
            "Epoch 24 of 50\n",
            "Train Loss: 1.5350, Train Acc: 92.91,         Val Loss: 1.5414, Val Acc: 92.30\n",
            "Epoch 25 of 50\n",
            "Train Loss: 1.5347, Train Acc: 92.92,         Val Loss: 1.5409, Val Acc: 92.10\n",
            "Epoch 26 of 50\n",
            "Train Loss: 1.5341, Train Acc: 92.97,         Val Loss: 1.5406, Val Acc: 92.35\n",
            "Epoch 27 of 50\n",
            "Train Loss: 1.5336, Train Acc: 93.06,         Val Loss: 1.5413, Val Acc: 92.12\n",
            "Epoch 28 of 50\n",
            "Train Loss: 1.5334, Train Acc: 93.04,         Val Loss: 1.5397, Val Acc: 92.30\n",
            "Epoch 29 of 50\n",
            "Train Loss: 1.5329, Train Acc: 93.12,         Val Loss: 1.5400, Val Acc: 92.22\n",
            "Epoch 30 of 50\n",
            "Train Loss: 1.5327, Train Acc: 93.12,         Val Loss: 1.5398, Val Acc: 92.31\n",
            "Epoch 31 of 50\n",
            "Train Loss: 1.5323, Train Acc: 93.12,         Val Loss: 1.5403, Val Acc: 92.32\n",
            "Epoch 32 of 50\n",
            "Train Loss: 1.5319, Train Acc: 93.17,         Val Loss: 1.5393, Val Acc: 92.33\n",
            "Epoch 33 of 50\n",
            "Train Loss: 1.5315, Train Acc: 93.29,         Val Loss: 1.5386, Val Acc: 92.33\n",
            "Epoch 34 of 50\n",
            "Train Loss: 1.5314, Train Acc: 93.28,         Val Loss: 1.5384, Val Acc: 92.45\n",
            "Epoch 35 of 50\n",
            "Train Loss: 1.5310, Train Acc: 93.34,         Val Loss: 1.5380, Val Acc: 92.40\n",
            "Epoch 36 of 50\n",
            "Train Loss: 1.5307, Train Acc: 93.31,         Val Loss: 1.5381, Val Acc: 92.34\n",
            "Epoch 37 of 50\n",
            "Train Loss: 1.5304, Train Acc: 93.36,         Val Loss: 1.5380, Val Acc: 92.42\n",
            "Epoch 38 of 50\n",
            "Train Loss: 1.5301, Train Acc: 93.39,         Val Loss: 1.5384, Val Acc: 92.46\n",
            "Epoch 39 of 50\n",
            "Train Loss: 1.5299, Train Acc: 93.35,         Val Loss: 1.5371, Val Acc: 92.53\n",
            "Epoch 40 of 50\n",
            "Train Loss: 1.5297, Train Acc: 93.44,         Val Loss: 1.5368, Val Acc: 92.48\n",
            "Epoch 41 of 50\n",
            "Train Loss: 1.5292, Train Acc: 93.47,         Val Loss: 1.5365, Val Acc: 92.66\n",
            "Epoch 42 of 50\n",
            "Train Loss: 1.5292, Train Acc: 93.47,         Val Loss: 1.5356, Val Acc: 92.66\n",
            "Epoch 43 of 50\n",
            "Train Loss: 1.5289, Train Acc: 93.51,         Val Loss: 1.5367, Val Acc: 92.54\n",
            "Epoch 44 of 50\n",
            "Train Loss: 1.5285, Train Acc: 93.52,         Val Loss: 1.5361, Val Acc: 92.69\n",
            "Epoch 45 of 50\n",
            "Train Loss: 1.5285, Train Acc: 93.53,         Val Loss: 1.5361, Val Acc: 92.59\n",
            "Epoch 46 of 50\n",
            "Train Loss: 1.5281, Train Acc: 93.52,         Val Loss: 1.5354, Val Acc: 92.59\n",
            "Epoch 47 of 50\n",
            "Train Loss: 1.5279, Train Acc: 93.55,         Val Loss: 1.5354, Val Acc: 92.70\n",
            "Epoch 48 of 50\n",
            "Train Loss: 1.5276, Train Acc: 93.60,         Val Loss: 1.5350, Val Acc: 92.70\n",
            "Epoch 49 of 50\n",
            "Train Loss: 1.5274, Train Acc: 93.61,         Val Loss: 1.5341, Val Acc: 92.83\n",
            "Epoch 50 of 50\n",
            "Train Loss: 1.5273, Train Acc: 93.61,         Val Loss: 1.5348, Val Acc: 92.72\n",
            "Training time: 1.756 minutes\n"
          ]
        }
      ],
      "source": [
        "trained_FC, FC_train_loss, FC_train_accuracy, FC_val_loss, FC_val_accuracy = FC_train(hparams, DR_train_loader, DR_val_loader) ### train the model"
      ]
    },
    {
      "cell_type": "code",
      "execution_count": 2249,
      "metadata": {},
      "outputs": [],
      "source": [
        "#Saving the trained AE\n",
        "torch.save(trained_FC.state_dict(), 'trained_FC')"
      ]
    },
    {
      "attachments": {},
      "cell_type": "markdown",
      "metadata": {},
      "source": [
        "    *training and validation loss vs. epoch for Fully-Connected network."
      ]
    },
    {
      "cell_type": "code",
      "execution_count": 2250,
      "metadata": {},
      "outputs": [
        {
          "name": "stdout",
          "output_type": "stream",
          "text": [
            "******************************* Training Phase: Loss Evaluation *******************************\n"
          ]
        },
        {
          "data": {
            "text/plain": [
              "<matplotlib.legend.Legend at 0x7fde90084340>"
            ]
          },
          "execution_count": 2250,
          "metadata": {},
          "output_type": "execute_result"
        },
        {
          "data": {
            "image/png": "[encoded data removed]",
            "text/plain": [
              "<Figure size 800x500 with 1 Axes>"
            ]
          },
          "metadata": {},
          "output_type": "display_data"
        }
      ],
      "source": [
        "print(\"******************************* Training Phase: Loss Evaluation *******************************\")\n",
        "## Plotting the training loss and validation loss vs epochs for each model\n",
        "plt.figure(figsize=(8, 5))\n",
        "plt.plot(list(range(1,len(FC_train_loss)+1)), FC_train_loss, label='Train Loss')\n",
        "plt.plot(list(range(1,len(FC_val_loss)+1)), FC_val_loss, label='Val Loss')\n",
        "plt.title('Loss per Epoch for FC Network with 2 hidden layers')\n",
        "tick_marks = np.arange(len(range(hparams['epochs'])))\n",
        "plt.xticks(tick_marks, range(hparams['epochs']) , fontsize= 6)\n",
        "plt.xlabel('Epoch')\n",
        "plt.ylabel('Loss')\n",
        "plt.legend()"
      ]
    },
    {
      "attachments": {},
      "cell_type": "markdown",
      "metadata": {},
      "source": [
        "    *training and validation accuracy vs. epoch for Fully-Connected network."
      ]
    },
    {
      "cell_type": "code",
      "execution_count": 2251,
      "metadata": {},
      "outputs": [
        {
          "name": "stdout",
          "output_type": "stream",
          "text": [
            "******************************* Training Phase: Accuracy Evaluation *******************************\n"
          ]
        },
        {
          "data": {
            "text/plain": [
              "<matplotlib.legend.Legend at 0x7fe07ed54580>"
            ]
          },
          "execution_count": 2251,
          "metadata": {},
          "output_type": "execute_result"
        },
        {
          "data": {
            "image/png": "[encoded data removed]",
            "text/plain": [
              "<Figure size 800x500 with 1 Axes>"
            ]
          },
          "metadata": {},
          "output_type": "display_data"
        }
      ],
      "source": [
        "print(\"******************************* Training Phase: Accuracy Evaluation *******************************\")\n",
        "## Plotting the training loss and validation loss vs epochs for each model\n",
        "plt.figure(figsize=(8, 5))\n",
        "plt.plot(list(range(1,len(FC_train_accuracy)+1)), FC_train_accuracy, label='Train Acc')\n",
        "plt.plot(list(range(1,len(FC_val_accuracy)+1)), FC_val_accuracy, label='Val Acc')\n",
        "plt.title('Accuracy per Epoch for FC Network with 2 hidden layers')\n",
        "tick_marks = np.arange(len(range(hparams['epochs'])))\n",
        "plt.xticks(tick_marks, range(hparams['epochs']) , fontsize= 6)\n",
        "plt.xlabel('Epoch')\n",
        "plt.ylabel('Accuracy')\n",
        "plt.tight_layout()\n",
        "plt.legend()"
      ]
    },
    {
      "attachments": {},
      "cell_type": "markdown",
      "metadata": {},
      "source": [
        "    *The method for Testing the unseen data\n",
        "\n",
        "in order to test the unseen data, the trained FC model is used.\n",
        "\n",
        "Note that no gradient is required in test phase.\n"
      ]
    },
    {
      "cell_type": "code",
      "execution_count": 2252,
      "metadata": {},
      "outputs": [],
      "source": [
        "def Testing (model,test_loader):\n",
        "    model.eval()  # No training in post-processing\n",
        "    test_running_loss = 0.0\n",
        "    test_running_correct = 0\n",
        "    counter = 0\n",
        "    total = 0\n",
        "    criterion = nn.CrossEntropyLoss()\n",
        "    ## Using the trained_FC\n",
        "    model.load_state_dict(torch.load('trained_FC'))\n",
        "\n",
        "    with torch.no_grad():\n",
        "        for i, data in enumerate(test_loader):\n",
        "            counter += 1\n",
        "            data, target = data\n",
        "            data, target = data, target\n",
        "            data = data.reshape(-1, 30)    ## Reshape the image data for the fully-connected NN\n",
        "            total += target.size(0)\n",
        "            outputs = model(data)\n",
        "            loss = criterion(outputs, target)\n",
        "\n",
        "            test_running_loss += loss.item()\n",
        "            _, preds = torch.max(outputs.data, 1)\n",
        "            ## Storing the labels and predicted ones\n",
        "            if counter==1 :\n",
        "                y_true = (target.detach().numpy())\n",
        "                y_pred = (target.detach().numpy())\n",
        "            else:\n",
        "                y_true = np.concatenate((y_true, np.array(target.detach().numpy())), axis=0)\n",
        "                y_pred = np.concatenate((y_pred, np.array(preds.detach().numpy())), axis=0)\n",
        "            test_running_correct += (preds == target).sum().item()\n",
        "\n",
        "        test_loss = test_running_loss / counter\n",
        "        test_accuracy = 100. * test_running_correct / total\n",
        "    return test_loss, test_accuracy, y_true, y_pred"
      ]
    },
    {
      "attachments": {},
      "cell_type": "markdown",
      "metadata": {},
      "source": [
        "Testing the model with unseen data:"
      ]
    },
    {
      "cell_type": "code",
      "execution_count": 2253,
      "metadata": {},
      "outputs": [
        {
          "name": "stdout",
          "output_type": "stream",
          "text": [
            "Test Loss: 1.5349774754047394\n",
            "Test Accuracy: 92.73\n"
          ]
        }
      ],
      "source": [
        "test_loss, test_acc, test_true, test_pred = Testing(trained_FC, DR_test_loader)\n",
        "print(\"Test Loss: \"+ str(test_loss))\n",
        "print(\"Test Accuracy: \"+ str(test_acc))"
      ]
    },
    {
      "attachments": {},
      "cell_type": "markdown",
      "metadata": {},
      "source": [
        "    Plotting the Confusion matrix:"
      ]
    },
    {
      "cell_type": "code",
      "execution_count": 2254,
      "metadata": {},
      "outputs": [
        {
          "data": {
            "image/png": "[encoded data removed]",
            "text/plain": [
              "<Figure size 640x480 with 2 Axes>"
            ]
          },
          "metadata": {},
          "output_type": "display_data"
        }
      ],
      "source": [
        "from sklearn.metrics import confusion_matrix\n",
        "from sklearn.metrics import classification_report\n",
        "cnf_matrix = confusion_matrix(test_true, test_pred)   ## Sklearn confusion matrix object\n",
        "accuracy = np.trace(cnf_matrix) / float(np.sum(cnf_matrix))\n",
        "misclass = 1 - accuracy\n",
        "class_names = [\"Zero\",\"One\", \"Two\", \"Three\", \"Four\", \"Five\", \"Six\", \"Seven\", \"Eight\", \"Nine\"]\n",
        "\n",
        "fig, ax = plt.subplots()\n",
        "tick_marks = np.arange(len(class_names))\n",
        "plt.xticks(tick_marks, class_names, rotation=45)\n",
        "plt.yticks(tick_marks, class_names)\n",
        "\n",
        "sns.heatmap(pd.DataFrame(cnf_matrix), annot=True, cmap = \"Blues\" ,fmt='g', xticklabels=class_names , yticklabels=class_names)\n",
        "ax.xaxis.set_label_position(\"bottom\")\n",
        "plt.title('Confusion matrix', y=1.1)\n",
        "plt.ylabel('True label')\n",
        "plt.xlabel('Predicted label\\naccuracy={:0.2f}; misclass={:0.2f}'.format(accuracy, misclass))\n",
        "plt.tight_layout()"
      ]
    },
    {
      "attachments": {},
      "cell_type": "markdown",
      "metadata": {},
      "source": [
        "    Classification Report:"
      ]
    },
    {
      "cell_type": "code",
      "execution_count": 2255,
      "metadata": {},
      "outputs": [
        {
          "name": "stdout",
          "output_type": "stream",
          "text": [
            "              precision    recall  f1-score   support\n",
            "\n",
            "        Zero       0.93      0.98      0.95       980\n",
            "         One       0.98      0.99      0.98      1135\n",
            "         Two       0.93      0.94      0.93      1032\n",
            "       Three       0.92      0.92      0.92      1010\n",
            "        Four       0.92      0.94      0.93       982\n",
            "        Five       0.91      0.89      0.90       892\n",
            "         Six       0.95      0.96      0.96       958\n",
            "       Seven       0.96      0.90      0.93      1028\n",
            "       Eight       0.89      0.86      0.87       974\n",
            "        Nine       0.88      0.89      0.89      1009\n",
            "\n",
            "    accuracy                           0.93     10000\n",
            "   macro avg       0.93      0.93      0.93     10000\n",
            "weighted avg       0.93      0.93      0.93     10000\n",
            "\n"
          ]
        }
      ],
      "source": [
        "print(classification_report(test_true, test_pred, target_names=class_names))"
      ]
    },
    {
      "cell_type": "code",
      "execution_count": null,
      "metadata": {},
      "outputs": [],
      "source": []
    }
  ],
  "metadata": {
    "accelerator": "GPU",
    "colab": {
      "provenance": []
    },
    "gpuClass": "standard",
    "kernelspec": {
      "display_name": "Python 3.8.3 64-bit",
      "language": "python",
      "name": "python3"
    },
    "language_info": {
      "codemirror_mode": {
        "name": "ipython",
        "version": 3
      },
      "file_extension": ".py",
      "mimetype": "text/x-python",
      "name": "python",
      "nbconvert_exporter": "python",
      "pygments_lexer": "ipython3",
      "version": "3.8.3"
    },
    "orig_nbformat": 4,
    "vscode": {
      "interpreter": {
        "hash": "aee8b7b246df8f9039afb4144a1f6fd8d2ca17a180786b69acc140d282b71a49"
      }
    },
    "widgets": {
      "application/vnd.jupyter.widget-state+json": {
        "008300b9f5fb440b8efe595cb9aa33da": {
          "model_module": "@jupyter-widgets/base",
          "model_module_version": "1.2.0",
          "model_name": "LayoutModel",
          "state": {
            "_model_module": "@jupyter-widgets/base",
            "_model_module_version": "1.2.0",
            "_model_name": "LayoutModel",
            "_view_count": null,
            "_view_module": "@jupyter-widgets/base",
            "_view_module_version": "1.2.0",
            "_view_name": "LayoutView",
            "align_content": null,
            "align_items": null,
            "align_self": null,
            "border": null,
            "bottom": null,
            "display": null,
            "flex": null,
            "flex_flow": null,
            "grid_area": null,
            "grid_auto_columns": null,
            "grid_auto_flow": null,
            "grid_auto_rows": null,
            "grid_column": null,
            "grid_gap": null,
            "grid_row": null,
            "grid_template_areas": null,
            "grid_template_columns": null,
            "grid_template_rows": null,
            "height": null,
            "justify_content": null,
            "justify_items": null,
            "left": null,
            "margin": null,
            "max_height": null,
            "max_width": null,
            "min_height": null,
            "min_width": null,
            "object_fit": null,
            "object_position": null,
            "order": null,
            "overflow": null,
            "overflow_x": null,
            "overflow_y": null,
            "padding": null,
            "right": null,
            "top": null,
            "visibility": null,
            "width": null
          }
        },
        "01069a4d81bb4db4ac599993c4c11bd2": {
          "model_module": "@jupyter-widgets/controls",
          "model_module_version": "1.5.0",
          "model_name": "DescriptionStyleModel",
          "state": {
            "_model_module": "@jupyter-widgets/controls",
            "_model_module_version": "1.5.0",
            "_model_name": "DescriptionStyleModel",
            "_view_count": null,
            "_view_module": "@jupyter-widgets/base",
            "_view_module_version": "1.2.0",
            "_view_name": "StyleView",
            "description_width": ""
          }
        },
        "125ed341b4694bd2b6b4b020ff1376ab": {
          "model_module": "@jupyter-widgets/base",
          "model_module_version": "1.2.0",
          "model_name": "LayoutModel",
          "state": {
            "_model_module": "@jupyter-widgets/base",
            "_model_module_version": "1.2.0",
            "_model_name": "LayoutModel",
            "_view_count": null,
            "_view_module": "@jupyter-widgets/base",
            "_view_module_version": "1.2.0",
            "_view_name": "LayoutView",
            "align_content": null,
            "align_items": null,
            "align_self": null,
            "border": null,
            "bottom": null,
            "display": null,
            "flex": null,
            "flex_flow": null,
            "grid_area": null,
            "grid_auto_columns": null,
            "grid_auto_flow": null,
            "grid_auto_rows": null,
            "grid_column": null,
            "grid_gap": null,
            "grid_row": null,
            "grid_template_areas": null,
            "grid_template_columns": null,
            "grid_template_rows": null,
            "height": null,
            "justify_content": null,
            "justify_items": null,
            "left": null,
            "margin": null,
            "max_height": null,
            "max_width": null,
            "min_height": null,
            "min_width": null,
            "object_fit": null,
            "object_position": null,
            "order": null,
            "overflow": null,
            "overflow_x": null,
            "overflow_y": null,
            "padding": null,
            "right": null,
            "top": null,
            "visibility": null,
            "width": null
          }
        },
        "23d6f3a4bdbf4b01bd64d2eb5e495a1e": {
          "model_module": "@jupyter-widgets/base",
          "model_module_version": "1.2.0",
          "model_name": "LayoutModel",
          "state": {
            "_model_module": "@jupyter-widgets/base",
            "_model_module_version": "1.2.0",
            "_model_name": "LayoutModel",
            "_view_count": null,
            "_view_module": "@jupyter-widgets/base",
            "_view_module_version": "1.2.0",
            "_view_name": "LayoutView",
            "align_content": null,
            "align_items": null,
            "align_self": null,
            "border": null,
            "bottom": null,
            "display": null,
            "flex": null,
            "flex_flow": null,
            "grid_area": null,
            "grid_auto_columns": null,
            "grid_auto_flow": null,
            "grid_auto_rows": null,
            "grid_column": null,
            "grid_gap": null,
            "grid_row": null,
            "grid_template_areas": null,
            "grid_template_columns": null,
            "grid_template_rows": null,
            "height": null,
            "justify_content": null,
            "justify_items": null,
            "left": null,
            "margin": null,
            "max_height": null,
            "max_width": null,
            "min_height": null,
            "min_width": null,
            "object_fit": null,
            "object_position": null,
            "order": null,
            "overflow": null,
            "overflow_x": null,
            "overflow_y": null,
            "padding": null,
            "right": null,
            "top": null,
            "visibility": null,
            "width": null
          }
        },
        "2694459cc8da4bf88ada9a74d7bb7b94": {
          "model_module": "@jupyter-widgets/base",
          "model_module_version": "1.2.0",
          "model_name": "LayoutModel",
          "state": {
            "_model_module": "@jupyter-widgets/base",
            "_model_module_version": "1.2.0",
            "_model_name": "LayoutModel",
            "_view_count": null,
            "_view_module": "@jupyter-widgets/base",
            "_view_module_version": "1.2.0",
            "_view_name": "LayoutView",
            "align_content": null,
            "align_items": null,
            "align_self": null,
            "border": null,
            "bottom": null,
            "display": null,
            "flex": null,
            "flex_flow": null,
            "grid_area": null,
            "grid_auto_columns": null,
            "grid_auto_flow": null,
            "grid_auto_rows": null,
            "grid_column": null,
            "grid_gap": null,
            "grid_row": null,
            "grid_template_areas": null,
            "grid_template_columns": null,
            "grid_template_rows": null,
            "height": null,
            "justify_content": null,
            "justify_items": null,
            "left": null,
            "margin": null,
            "max_height": null,
            "max_width": null,
            "min_height": null,
            "min_width": null,
            "object_fit": null,
            "object_position": null,
            "order": null,
            "overflow": null,
            "overflow_x": null,
            "overflow_y": null,
            "padding": null,
            "right": null,
            "top": null,
            "visibility": null,
            "width": null
          }
        },
        "2c611b2dd80a4d9da26229c2491e99a0": {
          "model_module": "@jupyter-widgets/controls",
          "model_module_version": "1.5.0",
          "model_name": "FloatProgressModel",
          "state": {
            "_dom_classes": [],
            "_model_module": "@jupyter-widgets/controls",
            "_model_module_version": "1.5.0",
            "_model_name": "FloatProgressModel",
            "_view_count": null,
            "_view_module": "@jupyter-widgets/controls",
            "_view_module_version": "1.5.0",
            "_view_name": "ProgressView",
            "bar_style": "success",
            "description": "",
            "description_tooltip": null,
            "layout": "IPY_MODEL_c7b5f784ba5c4e94abd9230d3833a97e",
            "max": 9912422,
            "min": 0,
            "orientation": "horizontal",
            "style": "IPY_MODEL_f64410fd31234ba397d8fbf257e977e8",
            "value": 9912422
          }
        },
        "302170dc5e4942979e11d02fa6aa3286": {
          "model_module": "@jupyter-widgets/controls",
          "model_module_version": "1.5.0",
          "model_name": "HBoxModel",
          "state": {
            "_dom_classes": [],
            "_model_module": "@jupyter-widgets/controls",
            "_model_module_version": "1.5.0",
            "_model_name": "HBoxModel",
            "_view_count": null,
            "_view_module": "@jupyter-widgets/controls",
            "_view_module_version": "1.5.0",
            "_view_name": "HBoxView",
            "box_style": "",
            "children": [
              "IPY_MODEL_b1a608b1c80b4dd399194537f0f1ed93",
              "IPY_MODEL_4307cb2eef2247fd9c256e549e304744",
              "IPY_MODEL_dc3e8217104943b4b0efb9b668ad70e2"
            ],
            "layout": "IPY_MODEL_008300b9f5fb440b8efe595cb9aa33da"
          }
        },
        "302e873aaf004e90909b76a0e93421b7": {
          "model_module": "@jupyter-widgets/controls",
          "model_module_version": "1.5.0",
          "model_name": "HTMLModel",
          "state": {
            "_dom_classes": [],
            "_model_module": "@jupyter-widgets/controls",
            "_model_module_version": "1.5.0",
            "_model_name": "HTMLModel",
            "_view_count": null,
            "_view_module": "@jupyter-widgets/controls",
            "_view_module_version": "1.5.0",
            "_view_name": "HTMLView",
            "description": "",
            "description_tooltip": null,
            "layout": "IPY_MODEL_8657b61d35ca429c8b26a4c419f31d5f",
            "placeholder": "​",
            "style": "IPY_MODEL_a809113135024f40a9050edbc862ea4e",
            "value": "100%"
          }
        },
        "36ce6d1a37394229bb3469717816998f": {
          "model_module": "@jupyter-widgets/controls",
          "model_module_version": "1.5.0",
          "model_name": "HBoxModel",
          "state": {
            "_dom_classes": [],
            "_model_module": "@jupyter-widgets/controls",
            "_model_module_version": "1.5.0",
            "_model_name": "HBoxModel",
            "_view_count": null,
            "_view_module": "@jupyter-widgets/controls",
            "_view_module_version": "1.5.0",
            "_view_name": "HBoxView",
            "box_style": "",
            "children": [
              "IPY_MODEL_de47adcf259d4b8cb1d3798160e1cc48",
              "IPY_MODEL_2c611b2dd80a4d9da26229c2491e99a0",
              "IPY_MODEL_96c93b2c10da4970a0b22d524fcc6e65"
            ],
            "layout": "IPY_MODEL_41301c5df0794643a91e938f23c8984a"
          }
        },
        "3dd58e9bc65249cb84ff18accdc7438e": {
          "model_module": "@jupyter-widgets/base",
          "model_module_version": "1.2.0",
          "model_name": "LayoutModel",
          "state": {
            "_model_module": "@jupyter-widgets/base",
            "_model_module_version": "1.2.0",
            "_model_name": "LayoutModel",
            "_view_count": null,
            "_view_module": "@jupyter-widgets/base",
            "_view_module_version": "1.2.0",
            "_view_name": "LayoutView",
            "align_content": null,
            "align_items": null,
            "align_self": null,
            "border": null,
            "bottom": null,
            "display": null,
            "flex": null,
            "flex_flow": null,
            "grid_area": null,
            "grid_auto_columns": null,
            "grid_auto_flow": null,
            "grid_auto_rows": null,
            "grid_column": null,
            "grid_gap": null,
            "grid_row": null,
            "grid_template_areas": null,
            "grid_template_columns": null,
            "grid_template_rows": null,
            "height": null,
            "justify_content": null,
            "justify_items": null,
            "left": null,
            "margin": null,
            "max_height": null,
            "max_width": null,
            "min_height": null,
            "min_width": null,
            "object_fit": null,
            "object_position": null,
            "order": null,
            "overflow": null,
            "overflow_x": null,
            "overflow_y": null,
            "padding": null,
            "right": null,
            "top": null,
            "visibility": null,
            "width": null
          }
        },
        "41301c5df0794643a91e938f23c8984a": {
          "model_module": "@jupyter-widgets/base",
          "model_module_version": "1.2.0",
          "model_name": "LayoutModel",
          "state": {
            "_model_module": "@jupyter-widgets/base",
            "_model_module_version": "1.2.0",
            "_model_name": "LayoutModel",
            "_view_count": null,
            "_view_module": "@jupyter-widgets/base",
            "_view_module_version": "1.2.0",
            "_view_name": "LayoutView",
            "align_content": null,
            "align_items": null,
            "align_self": null,
            "border": null,
            "bottom": null,
            "display": null,
            "flex": null,
            "flex_flow": null,
            "grid_area": null,
            "grid_auto_columns": null,
            "grid_auto_flow": null,
            "grid_auto_rows": null,
            "grid_column": null,
            "grid_gap": null,
            "grid_row": null,
            "grid_template_areas": null,
            "grid_template_columns": null,
            "grid_template_rows": null,
            "height": null,
            "justify_content": null,
            "justify_items": null,
            "left": null,
            "margin": null,
            "max_height": null,
            "max_width": null,
            "min_height": null,
            "min_width": null,
            "object_fit": null,
            "object_position": null,
            "order": null,
            "overflow": null,
            "overflow_x": null,
            "overflow_y": null,
            "padding": null,
            "right": null,
            "top": null,
            "visibility": null,
            "width": null
          }
        },
        "4307cb2eef2247fd9c256e549e304744": {
          "model_module": "@jupyter-widgets/controls",
          "model_module_version": "1.5.0",
          "model_name": "FloatProgressModel",
          "state": {
            "_dom_classes": [],
            "_model_module": "@jupyter-widgets/controls",
            "_model_module_version": "1.5.0",
            "_model_name": "FloatProgressModel",
            "_view_count": null,
            "_view_module": "@jupyter-widgets/controls",
            "_view_module_version": "1.5.0",
            "_view_name": "ProgressView",
            "bar_style": "success",
            "description": "",
            "description_tooltip": null,
            "layout": "IPY_MODEL_63faa330f6a44f71af7f1f2bf4bb55c3",
            "max": 1648877,
            "min": 0,
            "orientation": "horizontal",
            "style": "IPY_MODEL_4587fb67a8ff4da5840b4fc2e9495d86",
            "value": 1648877
          }
        },
        "4587fb67a8ff4da5840b4fc2e9495d86": {
          "model_module": "@jupyter-widgets/controls",
          "model_module_version": "1.5.0",
          "model_name": "ProgressStyleModel",
          "state": {
            "_model_module": "@jupyter-widgets/controls",
            "_model_module_version": "1.5.0",
            "_model_name": "ProgressStyleModel",
            "_view_count": null,
            "_view_module": "@jupyter-widgets/base",
            "_view_module_version": "1.2.0",
            "_view_name": "StyleView",
            "bar_color": null,
            "description_width": ""
          }
        },
        "55d174d82c4a4828af2716bbb7ce305c": {
          "model_module": "@jupyter-widgets/controls",
          "model_module_version": "1.5.0",
          "model_name": "HBoxModel",
          "state": {
            "_dom_classes": [],
            "_model_module": "@jupyter-widgets/controls",
            "_model_module_version": "1.5.0",
            "_model_name": "HBoxModel",
            "_view_count": null,
            "_view_module": "@jupyter-widgets/controls",
            "_view_module_version": "1.5.0",
            "_view_name": "HBoxView",
            "box_style": "",
            "children": [
              "IPY_MODEL_302e873aaf004e90909b76a0e93421b7",
              "IPY_MODEL_96f45c86023244e3b8d74b9c61c929e0",
              "IPY_MODEL_a98a18cf6da44d7c9ec97839dfb90db7"
            ],
            "layout": "IPY_MODEL_ffc1a26fe17a411283cc1968b7748dd7"
          }
        },
        "5b4c104d9d9f4200aec0e1c30248b5e1": {
          "model_module": "@jupyter-widgets/base",
          "model_module_version": "1.2.0",
          "model_name": "LayoutModel",
          "state": {
            "_model_module": "@jupyter-widgets/base",
            "_model_module_version": "1.2.0",
            "_model_name": "LayoutModel",
            "_view_count": null,
            "_view_module": "@jupyter-widgets/base",
            "_view_module_version": "1.2.0",
            "_view_name": "LayoutView",
            "align_content": null,
            "align_items": null,
            "align_self": null,
            "border": null,
            "bottom": null,
            "display": null,
            "flex": null,
            "flex_flow": null,
            "grid_area": null,
            "grid_auto_columns": null,
            "grid_auto_flow": null,
            "grid_auto_rows": null,
            "grid_column": null,
            "grid_gap": null,
            "grid_row": null,
            "grid_template_areas": null,
            "grid_template_columns": null,
            "grid_template_rows": null,
            "height": null,
            "justify_content": null,
            "justify_items": null,
            "left": null,
            "margin": null,
            "max_height": null,
            "max_width": null,
            "min_height": null,
            "min_width": null,
            "object_fit": null,
            "object_position": null,
            "order": null,
            "overflow": null,
            "overflow_x": null,
            "overflow_y": null,
            "padding": null,
            "right": null,
            "top": null,
            "visibility": null,
            "width": null
          }
        },
        "5b673d55a21342ac9d175762f2dcc1ae": {
          "model_module": "@jupyter-widgets/base",
          "model_module_version": "1.2.0",
          "model_name": "LayoutModel",
          "state": {
            "_model_module": "@jupyter-widgets/base",
            "_model_module_version": "1.2.0",
            "_model_name": "LayoutModel",
            "_view_count": null,
            "_view_module": "@jupyter-widgets/base",
            "_view_module_version": "1.2.0",
            "_view_name": "LayoutView",
            "align_content": null,
            "align_items": null,
            "align_self": null,
            "border": null,
            "bottom": null,
            "display": null,
            "flex": null,
            "flex_flow": null,
            "grid_area": null,
            "grid_auto_columns": null,
            "grid_auto_flow": null,
            "grid_auto_rows": null,
            "grid_column": null,
            "grid_gap": null,
            "grid_row": null,
            "grid_template_areas": null,
            "grid_template_columns": null,
            "grid_template_rows": null,
            "height": null,
            "justify_content": null,
            "justify_items": null,
            "left": null,
            "margin": null,
            "max_height": null,
            "max_width": null,
            "min_height": null,
            "min_width": null,
            "object_fit": null,
            "object_position": null,
            "order": null,
            "overflow": null,
            "overflow_x": null,
            "overflow_y": null,
            "padding": null,
            "right": null,
            "top": null,
            "visibility": null,
            "width": null
          }
        },
        "5c9ed233fcee45088f86788627871d9a": {
          "model_module": "@jupyter-widgets/controls",
          "model_module_version": "1.5.0",
          "model_name": "ProgressStyleModel",
          "state": {
            "_model_module": "@jupyter-widgets/controls",
            "_model_module_version": "1.5.0",
            "_model_name": "ProgressStyleModel",
            "_view_count": null,
            "_view_module": "@jupyter-widgets/base",
            "_view_module_version": "1.2.0",
            "_view_name": "StyleView",
            "bar_color": null,
            "description_width": ""
          }
        },
        "5e58eaf79413493db46ce9f392622f40": {
          "model_module": "@jupyter-widgets/controls",
          "model_module_version": "1.5.0",
          "model_name": "FloatProgressModel",
          "state": {
            "_dom_classes": [],
            "_model_module": "@jupyter-widgets/controls",
            "_model_module_version": "1.5.0",
            "_model_name": "FloatProgressModel",
            "_view_count": null,
            "_view_module": "@jupyter-widgets/controls",
            "_view_module_version": "1.5.0",
            "_view_name": "ProgressView",
            "bar_style": "success",
            "description": "",
            "description_tooltip": null,
            "layout": "IPY_MODEL_8e45ab448b764345a07740ed8b1a9509",
            "max": 28881,
            "min": 0,
            "orientation": "horizontal",
            "style": "IPY_MODEL_cfdc0bbeaea749b0b51c21da96f9720f",
            "value": 28881
          }
        },
        "63faa330f6a44f71af7f1f2bf4bb55c3": {
          "model_module": "@jupyter-widgets/base",
          "model_module_version": "1.2.0",
          "model_name": "LayoutModel",
          "state": {
            "_model_module": "@jupyter-widgets/base",
            "_model_module_version": "1.2.0",
            "_model_name": "LayoutModel",
            "_view_count": null,
            "_view_module": "@jupyter-widgets/base",
            "_view_module_version": "1.2.0",
            "_view_name": "LayoutView",
            "align_content": null,
            "align_items": null,
            "align_self": null,
            "border": null,
            "bottom": null,
            "display": null,
            "flex": null,
            "flex_flow": null,
            "grid_area": null,
            "grid_auto_columns": null,
            "grid_auto_flow": null,
            "grid_auto_rows": null,
            "grid_column": null,
            "grid_gap": null,
            "grid_row": null,
            "grid_template_areas": null,
            "grid_template_columns": null,
            "grid_template_rows": null,
            "height": null,
            "justify_content": null,
            "justify_items": null,
            "left": null,
            "margin": null,
            "max_height": null,
            "max_width": null,
            "min_height": null,
            "min_width": null,
            "object_fit": null,
            "object_position": null,
            "order": null,
            "overflow": null,
            "overflow_x": null,
            "overflow_y": null,
            "padding": null,
            "right": null,
            "top": null,
            "visibility": null,
            "width": null
          }
        },
        "6d88cdd31fbc43f4b066a88d1114b473": {
          "model_module": "@jupyter-widgets/controls",
          "model_module_version": "1.5.0",
          "model_name": "DescriptionStyleModel",
          "state": {
            "_model_module": "@jupyter-widgets/controls",
            "_model_module_version": "1.5.0",
            "_model_name": "DescriptionStyleModel",
            "_view_count": null,
            "_view_module": "@jupyter-widgets/base",
            "_view_module_version": "1.2.0",
            "_view_name": "StyleView",
            "description_width": ""
          }
        },
        "7a36922615a8413ab8b41d7853e5b3af": {
          "model_module": "@jupyter-widgets/base",
          "model_module_version": "1.2.0",
          "model_name": "LayoutModel",
          "state": {
            "_model_module": "@jupyter-widgets/base",
            "_model_module_version": "1.2.0",
            "_model_name": "LayoutModel",
            "_view_count": null,
            "_view_module": "@jupyter-widgets/base",
            "_view_module_version": "1.2.0",
            "_view_name": "LayoutView",
            "align_content": null,
            "align_items": null,
            "align_self": null,
            "border": null,
            "bottom": null,
            "display": null,
            "flex": null,
            "flex_flow": null,
            "grid_area": null,
            "grid_auto_columns": null,
            "grid_auto_flow": null,
            "grid_auto_rows": null,
            "grid_column": null,
            "grid_gap": null,
            "grid_row": null,
            "grid_template_areas": null,
            "grid_template_columns": null,
            "grid_template_rows": null,
            "height": null,
            "justify_content": null,
            "justify_items": null,
            "left": null,
            "margin": null,
            "max_height": null,
            "max_width": null,
            "min_height": null,
            "min_width": null,
            "object_fit": null,
            "object_position": null,
            "order": null,
            "overflow": null,
            "overflow_x": null,
            "overflow_y": null,
            "padding": null,
            "right": null,
            "top": null,
            "visibility": null,
            "width": null
          }
        },
        "860489ca63b04b2f958669c9319502c7": {
          "model_module": "@jupyter-widgets/controls",
          "model_module_version": "1.5.0",
          "model_name": "DescriptionStyleModel",
          "state": {
            "_model_module": "@jupyter-widgets/controls",
            "_model_module_version": "1.5.0",
            "_model_name": "DescriptionStyleModel",
            "_view_count": null,
            "_view_module": "@jupyter-widgets/base",
            "_view_module_version": "1.2.0",
            "_view_name": "StyleView",
            "description_width": ""
          }
        },
        "8657b61d35ca429c8b26a4c419f31d5f": {
          "model_module": "@jupyter-widgets/base",
          "model_module_version": "1.2.0",
          "model_name": "LayoutModel",
          "state": {
            "_model_module": "@jupyter-widgets/base",
            "_model_module_version": "1.2.0",
            "_model_name": "LayoutModel",
            "_view_count": null,
            "_view_module": "@jupyter-widgets/base",
            "_view_module_version": "1.2.0",
            "_view_name": "LayoutView",
            "align_content": null,
            "align_items": null,
            "align_self": null,
            "border": null,
            "bottom": null,
            "display": null,
            "flex": null,
            "flex_flow": null,
            "grid_area": null,
            "grid_auto_columns": null,
            "grid_auto_flow": null,
            "grid_auto_rows": null,
            "grid_column": null,
            "grid_gap": null,
            "grid_row": null,
            "grid_template_areas": null,
            "grid_template_columns": null,
            "grid_template_rows": null,
            "height": null,
            "justify_content": null,
            "justify_items": null,
            "left": null,
            "margin": null,
            "max_height": null,
            "max_width": null,
            "min_height": null,
            "min_width": null,
            "object_fit": null,
            "object_position": null,
            "order": null,
            "overflow": null,
            "overflow_x": null,
            "overflow_y": null,
            "padding": null,
            "right": null,
            "top": null,
            "visibility": null,
            "width": null
          }
        },
        "8e45ab448b764345a07740ed8b1a9509": {
          "model_module": "@jupyter-widgets/base",
          "model_module_version": "1.2.0",
          "model_name": "LayoutModel",
          "state": {
            "_model_module": "@jupyter-widgets/base",
            "_model_module_version": "1.2.0",
            "_model_name": "LayoutModel",
            "_view_count": null,
            "_view_module": "@jupyter-widgets/base",
            "_view_module_version": "1.2.0",
            "_view_name": "LayoutView",
            "align_content": null,
            "align_items": null,
            "align_self": null,
            "border": null,
            "bottom": null,
            "display": null,
            "flex": null,
            "flex_flow": null,
            "grid_area": null,
            "grid_auto_columns": null,
            "grid_auto_flow": null,
            "grid_auto_rows": null,
            "grid_column": null,
            "grid_gap": null,
            "grid_row": null,
            "grid_template_areas": null,
            "grid_template_columns": null,
            "grid_template_rows": null,
            "height": null,
            "justify_content": null,
            "justify_items": null,
            "left": null,
            "margin": null,
            "max_height": null,
            "max_width": null,
            "min_height": null,
            "min_width": null,
            "object_fit": null,
            "object_position": null,
            "order": null,
            "overflow": null,
            "overflow_x": null,
            "overflow_y": null,
            "padding": null,
            "right": null,
            "top": null,
            "visibility": null,
            "width": null
          }
        },
        "922ac2e08a974f08879394f04d280e75": {
          "model_module": "@jupyter-widgets/base",
          "model_module_version": "1.2.0",
          "model_name": "LayoutModel",
          "state": {
            "_model_module": "@jupyter-widgets/base",
            "_model_module_version": "1.2.0",
            "_model_name": "LayoutModel",
            "_view_count": null,
            "_view_module": "@jupyter-widgets/base",
            "_view_module_version": "1.2.0",
            "_view_name": "LayoutView",
            "align_content": null,
            "align_items": null,
            "align_self": null,
            "border": null,
            "bottom": null,
            "display": null,
            "flex": null,
            "flex_flow": null,
            "grid_area": null,
            "grid_auto_columns": null,
            "grid_auto_flow": null,
            "grid_auto_rows": null,
            "grid_column": null,
            "grid_gap": null,
            "grid_row": null,
            "grid_template_areas": null,
            "grid_template_columns": null,
            "grid_template_rows": null,
            "height": null,
            "justify_content": null,
            "justify_items": null,
            "left": null,
            "margin": null,
            "max_height": null,
            "max_width": null,
            "min_height": null,
            "min_width": null,
            "object_fit": null,
            "object_position": null,
            "order": null,
            "overflow": null,
            "overflow_x": null,
            "overflow_y": null,
            "padding": null,
            "right": null,
            "top": null,
            "visibility": null,
            "width": null
          }
        },
        "96373abb1c6f4d378f5982e0fde0689f": {
          "model_module": "@jupyter-widgets/controls",
          "model_module_version": "1.5.0",
          "model_name": "HTMLModel",
          "state": {
            "_dom_classes": [],
            "_model_module": "@jupyter-widgets/controls",
            "_model_module_version": "1.5.0",
            "_model_name": "HTMLModel",
            "_view_count": null,
            "_view_module": "@jupyter-widgets/controls",
            "_view_module_version": "1.5.0",
            "_view_name": "HTMLView",
            "description": "",
            "description_tooltip": null,
            "layout": "IPY_MODEL_5b673d55a21342ac9d175762f2dcc1ae",
            "placeholder": "​",
            "style": "IPY_MODEL_e634a05c5ade4fe4807614d15c481efb",
            "value": " 28881/28881 [00:00&lt;00:00, 497121.95it/s]"
          }
        },
        "96c93b2c10da4970a0b22d524fcc6e65": {
          "model_module": "@jupyter-widgets/controls",
          "model_module_version": "1.5.0",
          "model_name": "HTMLModel",
          "state": {
            "_dom_classes": [],
            "_model_module": "@jupyter-widgets/controls",
            "_model_module_version": "1.5.0",
            "_model_name": "HTMLModel",
            "_view_count": null,
            "_view_module": "@jupyter-widgets/controls",
            "_view_module_version": "1.5.0",
            "_view_name": "HTMLView",
            "description": "",
            "description_tooltip": null,
            "layout": "IPY_MODEL_125ed341b4694bd2b6b4b020ff1376ab",
            "placeholder": "​",
            "style": "IPY_MODEL_a321360257ae4d138cf36024579bf660",
            "value": " 9912422/9912422 [00:00&lt;00:00, 14088741.88it/s]"
          }
        },
        "96f45c86023244e3b8d74b9c61c929e0": {
          "model_module": "@jupyter-widgets/controls",
          "model_module_version": "1.5.0",
          "model_name": "FloatProgressModel",
          "state": {
            "_dom_classes": [],
            "_model_module": "@jupyter-widgets/controls",
            "_model_module_version": "1.5.0",
            "_model_name": "FloatProgressModel",
            "_view_count": null,
            "_view_module": "@jupyter-widgets/controls",
            "_view_module_version": "1.5.0",
            "_view_name": "ProgressView",
            "bar_style": "success",
            "description": "",
            "description_tooltip": null,
            "layout": "IPY_MODEL_23d6f3a4bdbf4b01bd64d2eb5e495a1e",
            "max": 4542,
            "min": 0,
            "orientation": "horizontal",
            "style": "IPY_MODEL_5c9ed233fcee45088f86788627871d9a",
            "value": 4542
          }
        },
        "9a2e20529ca14ecb82a229c7569fad07": {
          "model_module": "@jupyter-widgets/base",
          "model_module_version": "1.2.0",
          "model_name": "LayoutModel",
          "state": {
            "_model_module": "@jupyter-widgets/base",
            "_model_module_version": "1.2.0",
            "_model_name": "LayoutModel",
            "_view_count": null,
            "_view_module": "@jupyter-widgets/base",
            "_view_module_version": "1.2.0",
            "_view_name": "LayoutView",
            "align_content": null,
            "align_items": null,
            "align_self": null,
            "border": null,
            "bottom": null,
            "display": null,
            "flex": null,
            "flex_flow": null,
            "grid_area": null,
            "grid_auto_columns": null,
            "grid_auto_flow": null,
            "grid_auto_rows": null,
            "grid_column": null,
            "grid_gap": null,
            "grid_row": null,
            "grid_template_areas": null,
            "grid_template_columns": null,
            "grid_template_rows": null,
            "height": null,
            "justify_content": null,
            "justify_items": null,
            "left": null,
            "margin": null,
            "max_height": null,
            "max_width": null,
            "min_height": null,
            "min_width": null,
            "object_fit": null,
            "object_position": null,
            "order": null,
            "overflow": null,
            "overflow_x": null,
            "overflow_y": null,
            "padding": null,
            "right": null,
            "top": null,
            "visibility": null,
            "width": null
          }
        },
        "a321360257ae4d138cf36024579bf660": {
          "model_module": "@jupyter-widgets/controls",
          "model_module_version": "1.5.0",
          "model_name": "DescriptionStyleModel",
          "state": {
            "_model_module": "@jupyter-widgets/controls",
            "_model_module_version": "1.5.0",
            "_model_name": "DescriptionStyleModel",
            "_view_count": null,
            "_view_module": "@jupyter-widgets/base",
            "_view_module_version": "1.2.0",
            "_view_name": "StyleView",
            "description_width": ""
          }
        },
        "a809113135024f40a9050edbc862ea4e": {
          "model_module": "@jupyter-widgets/controls",
          "model_module_version": "1.5.0",
          "model_name": "DescriptionStyleModel",
          "state": {
            "_model_module": "@jupyter-widgets/controls",
            "_model_module_version": "1.5.0",
            "_model_name": "DescriptionStyleModel",
            "_view_count": null,
            "_view_module": "@jupyter-widgets/base",
            "_view_module_version": "1.2.0",
            "_view_name": "StyleView",
            "description_width": ""
          }
        },
        "a98a18cf6da44d7c9ec97839dfb90db7": {
          "model_module": "@jupyter-widgets/controls",
          "model_module_version": "1.5.0",
          "model_name": "HTMLModel",
          "state": {
            "_dom_classes": [],
            "_model_module": "@jupyter-widgets/controls",
            "_model_module_version": "1.5.0",
            "_model_name": "HTMLModel",
            "_view_count": null,
            "_view_module": "@jupyter-widgets/controls",
            "_view_module_version": "1.5.0",
            "_view_name": "HTMLView",
            "description": "",
            "description_tooltip": null,
            "layout": "IPY_MODEL_9a2e20529ca14ecb82a229c7569fad07",
            "placeholder": "​",
            "style": "IPY_MODEL_01069a4d81bb4db4ac599993c4c11bd2",
            "value": " 4542/4542 [00:00&lt;00:00, 129787.91it/s]"
          }
        },
        "b1a608b1c80b4dd399194537f0f1ed93": {
          "model_module": "@jupyter-widgets/controls",
          "model_module_version": "1.5.0",
          "model_name": "HTMLModel",
          "state": {
            "_dom_classes": [],
            "_model_module": "@jupyter-widgets/controls",
            "_model_module_version": "1.5.0",
            "_model_name": "HTMLModel",
            "_view_count": null,
            "_view_module": "@jupyter-widgets/controls",
            "_view_module_version": "1.5.0",
            "_view_name": "HTMLView",
            "description": "",
            "description_tooltip": null,
            "layout": "IPY_MODEL_2694459cc8da4bf88ada9a74d7bb7b94",
            "placeholder": "​",
            "style": "IPY_MODEL_f58ccf327dbf43eb99310c9a131b7e46",
            "value": "100%"
          }
        },
        "c7b5f784ba5c4e94abd9230d3833a97e": {
          "model_module": "@jupyter-widgets/base",
          "model_module_version": "1.2.0",
          "model_name": "LayoutModel",
          "state": {
            "_model_module": "@jupyter-widgets/base",
            "_model_module_version": "1.2.0",
            "_model_name": "LayoutModel",
            "_view_count": null,
            "_view_module": "@jupyter-widgets/base",
            "_view_module_version": "1.2.0",
            "_view_name": "LayoutView",
            "align_content": null,
            "align_items": null,
            "align_self": null,
            "border": null,
            "bottom": null,
            "display": null,
            "flex": null,
            "flex_flow": null,
            "grid_area": null,
            "grid_auto_columns": null,
            "grid_auto_flow": null,
            "grid_auto_rows": null,
            "grid_column": null,
            "grid_gap": null,
            "grid_row": null,
            "grid_template_areas": null,
            "grid_template_columns": null,
            "grid_template_rows": null,
            "height": null,
            "justify_content": null,
            "justify_items": null,
            "left": null,
            "margin": null,
            "max_height": null,
            "max_width": null,
            "min_height": null,
            "min_width": null,
            "object_fit": null,
            "object_position": null,
            "order": null,
            "overflow": null,
            "overflow_x": null,
            "overflow_y": null,
            "padding": null,
            "right": null,
            "top": null,
            "visibility": null,
            "width": null
          }
        },
        "cfdc0bbeaea749b0b51c21da96f9720f": {
          "model_module": "@jupyter-widgets/controls",
          "model_module_version": "1.5.0",
          "model_name": "ProgressStyleModel",
          "state": {
            "_model_module": "@jupyter-widgets/controls",
            "_model_module_version": "1.5.0",
            "_model_name": "ProgressStyleModel",
            "_view_count": null,
            "_view_module": "@jupyter-widgets/base",
            "_view_module_version": "1.2.0",
            "_view_name": "StyleView",
            "bar_color": null,
            "description_width": ""
          }
        },
        "d1576ddf26374e9faf3e88d16c09c1da": {
          "model_module": "@jupyter-widgets/controls",
          "model_module_version": "1.5.0",
          "model_name": "HTMLModel",
          "state": {
            "_dom_classes": [],
            "_model_module": "@jupyter-widgets/controls",
            "_model_module_version": "1.5.0",
            "_model_name": "HTMLModel",
            "_view_count": null,
            "_view_module": "@jupyter-widgets/controls",
            "_view_module_version": "1.5.0",
            "_view_name": "HTMLView",
            "description": "",
            "description_tooltip": null,
            "layout": "IPY_MODEL_5b4c104d9d9f4200aec0e1c30248b5e1",
            "placeholder": "​",
            "style": "IPY_MODEL_e7aef31ccc5c4c1a91d1b7865b1b321f",
            "value": "100%"
          }
        },
        "dc3e8217104943b4b0efb9b668ad70e2": {
          "model_module": "@jupyter-widgets/controls",
          "model_module_version": "1.5.0",
          "model_name": "HTMLModel",
          "state": {
            "_dom_classes": [],
            "_model_module": "@jupyter-widgets/controls",
            "_model_module_version": "1.5.0",
            "_model_name": "HTMLModel",
            "_view_count": null,
            "_view_module": "@jupyter-widgets/controls",
            "_view_module_version": "1.5.0",
            "_view_name": "HTMLView",
            "description": "",
            "description_tooltip": null,
            "layout": "IPY_MODEL_3dd58e9bc65249cb84ff18accdc7438e",
            "placeholder": "​",
            "style": "IPY_MODEL_860489ca63b04b2f958669c9319502c7",
            "value": " 1648877/1648877 [00:00&lt;00:00, 13145373.95it/s]"
          }
        },
        "de47adcf259d4b8cb1d3798160e1cc48": {
          "model_module": "@jupyter-widgets/controls",
          "model_module_version": "1.5.0",
          "model_name": "HTMLModel",
          "state": {
            "_dom_classes": [],
            "_model_module": "@jupyter-widgets/controls",
            "_model_module_version": "1.5.0",
            "_model_name": "HTMLModel",
            "_view_count": null,
            "_view_module": "@jupyter-widgets/controls",
            "_view_module_version": "1.5.0",
            "_view_name": "HTMLView",
            "description": "",
            "description_tooltip": null,
            "layout": "IPY_MODEL_7a36922615a8413ab8b41d7853e5b3af",
            "placeholder": "​",
            "style": "IPY_MODEL_6d88cdd31fbc43f4b066a88d1114b473",
            "value": "100%"
          }
        },
        "e634a05c5ade4fe4807614d15c481efb": {
          "model_module": "@jupyter-widgets/controls",
          "model_module_version": "1.5.0",
          "model_name": "DescriptionStyleModel",
          "state": {
            "_model_module": "@jupyter-widgets/controls",
            "_model_module_version": "1.5.0",
            "_model_name": "DescriptionStyleModel",
            "_view_count": null,
            "_view_module": "@jupyter-widgets/base",
            "_view_module_version": "1.2.0",
            "_view_name": "StyleView",
            "description_width": ""
          }
        },
        "e7aef31ccc5c4c1a91d1b7865b1b321f": {
          "model_module": "@jupyter-widgets/controls",
          "model_module_version": "1.5.0",
          "model_name": "DescriptionStyleModel",
          "state": {
            "_model_module": "@jupyter-widgets/controls",
            "_model_module_version": "1.5.0",
            "_model_name": "DescriptionStyleModel",
            "_view_count": null,
            "_view_module": "@jupyter-widgets/base",
            "_view_module_version": "1.2.0",
            "_view_name": "StyleView",
            "description_width": ""
          }
        },
        "f238dcfeb2fb44dc9a37c289ba1055d5": {
          "model_module": "@jupyter-widgets/controls",
          "model_module_version": "1.5.0",
          "model_name": "HBoxModel",
          "state": {
            "_dom_classes": [],
            "_model_module": "@jupyter-widgets/controls",
            "_model_module_version": "1.5.0",
            "_model_name": "HBoxModel",
            "_view_count": null,
            "_view_module": "@jupyter-widgets/controls",
            "_view_module_version": "1.5.0",
            "_view_name": "HBoxView",
            "box_style": "",
            "children": [
              "IPY_MODEL_d1576ddf26374e9faf3e88d16c09c1da",
              "IPY_MODEL_5e58eaf79413493db46ce9f392622f40",
              "IPY_MODEL_96373abb1c6f4d378f5982e0fde0689f"
            ],
            "layout": "IPY_MODEL_922ac2e08a974f08879394f04d280e75"
          }
        },
        "f58ccf327dbf43eb99310c9a131b7e46": {
          "model_module": "@jupyter-widgets/controls",
          "model_module_version": "1.5.0",
          "model_name": "DescriptionStyleModel",
          "state": {
            "_model_module": "@jupyter-widgets/controls",
            "_model_module_version": "1.5.0",
            "_model_name": "DescriptionStyleModel",
            "_view_count": null,
            "_view_module": "@jupyter-widgets/base",
            "_view_module_version": "1.2.0",
            "_view_name": "StyleView",
            "description_width": ""
          }
        },
        "f64410fd31234ba397d8fbf257e977e8": {
          "model_module": "@jupyter-widgets/controls",
          "model_module_version": "1.5.0",
          "model_name": "ProgressStyleModel",
          "state": {
            "_model_module": "@jupyter-widgets/controls",
            "_model_module_version": "1.5.0",
            "_model_name": "ProgressStyleModel",
            "_view_count": null,
            "_view_module": "@jupyter-widgets/base",
            "_view_module_version": "1.2.0",
            "_view_name": "StyleView",
            "bar_color": null,
            "description_width": ""
          }
        },
        "ffc1a26fe17a411283cc1968b7748dd7": {
          "model_module": "@jupyter-widgets/base",
          "model_module_version": "1.2.0",
          "model_name": "LayoutModel",
          "state": {
            "_model_module": "@jupyter-widgets/base",
            "_model_module_version": "1.2.0",
            "_model_name": "LayoutModel",
            "_view_count": null,
            "_view_module": "@jupyter-widgets/base",
            "_view_module_version": "1.2.0",
            "_view_name": "LayoutView",
            "align_content": null,
            "align_items": null,
            "align_self": null,
            "border": null,
            "bottom": null,
            "display": null,
            "flex": null,
            "flex_flow": null,
            "grid_area": null,
            "grid_auto_columns": null,
            "grid_auto_flow": null,
            "grid_auto_rows": null,
            "grid_column": null,
            "grid_gap": null,
            "grid_row": null,
            "grid_template_areas": null,
            "grid_template_columns": null,
            "grid_template_rows": null,
            "height": null,
            "justify_content": null,
            "justify_items": null,
            "left": null,
            "margin": null,
            "max_height": null,
            "max_width": null,
            "min_height": null,
            "min_width": null,
            "object_fit": null,
            "object_position": null,
            "order": null,
            "overflow": null,
            "overflow_x": null,
            "overflow_y": null,
            "padding": null,
            "right": null,
            "top": null,
            "visibility": null,
            "width": null
          }
        }
      }
    }
  },
  "nbformat": 4,
  "nbformat_minor": 0
}
